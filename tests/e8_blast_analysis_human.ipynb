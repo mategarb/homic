{
 "cells": [
  {
   "cell_type": "code",
   "execution_count": 1,
   "id": "9ea64c77-32ca-4c68-9a58-4167949f6bea",
   "metadata": {},
   "outputs": [
    {
     "name": "stdout",
     "output_type": "stream",
     "text": [
      "homic package imported\n"
     ]
    }
   ],
   "source": [
    "import sys\n",
    "import pandas as pd\n",
    "import matplotlib.pyplot as plt\n",
    "import matplotlib.colors as mcolors\n",
    "import numpy as np\n",
    "sys.path.append('/gpfs/commons/home/mgarbulowski/homic_package/src') # to load our package\n",
    "from homic import file_readers, process_data, make_plots"
   ]
  },
  {
   "cell_type": "code",
   "execution_count": null,
   "id": "88a4e8da-522b-40b5-9e02-40e4fd2e7e7d",
   "metadata": {},
   "outputs": [],
   "source": [
    "path_b = '/gpfs/commons/home/mgarbulowski/data_bi_wgs/botswana/SRR34978821_blastn.txt'\n",
    "data1 = process_data.read_n_clean_blastn(path_b, top_hits = True, evalue = 0.05, drop_sp = True)\n",
    "\n",
    "path_b = '/gpfs/commons/home/mgarbulowski/data_bi_wgs/botswana/SRR34978825_blastn.txt'\n",
    "data2 = process_data.read_n_clean_blastn(path_b, top_hits = True, evalue = 0.05, drop_sp = True)\n",
    "\n",
    "path_b = '/gpfs/commons/home/mgarbulowski/data_bi_wgs/botswana/SRR34978828_blastn.txt'\n",
    "data3 = process_data.read_n_clean_blastn(path_b, top_hits = True, evalue = 0.05, drop_sp = True)"
   ]
  },
  {
   "cell_type": "code",
   "execution_count": null,
   "id": "1b001866-5c27-4f68-bdce-359a171f9ccd",
   "metadata": {},
   "outputs": [],
   "source": [
    "data_nms = (\n",
    "       \"SRR34978821\",\n",
    "       \"SRR34978825\",\n",
    "       \"SRR34978828\",\n",
    ")\n",
    "listed_data = [data1, data2, data3]\n",
    "make_plots.relative_abundance_multi(listed_data, data_nms, 10, \"genus\")"
   ]
  },
  {
   "cell_type": "code",
   "execution_count": null,
   "id": "9ba04066-3e72-41b5-bf6f-5bb729394627",
   "metadata": {},
   "outputs": [],
   "source": [
    "path_b = '/gpfs/commons/home/mgarbulowski/data_bi_wgs/uganda/SRR34978879_blastn.txt'\n",
    "data11 = process_data.read_n_clean_blastn(path_b, top_hits = True, evalue = 0.05, drop_sp = True)\n",
    "\n",
    "path_b = '/gpfs/commons/home/mgarbulowski/data_bi_wgs/uganda/SRR34978880_blastn.txt'\n",
    "data22 = process_data.read_n_clean_blastn(path_b, top_hits = True, evalue = 0.05, drop_sp = True)\n",
    "\n",
    "path_b = '/gpfs/commons/home/mgarbulowski/data_bi_wgs/uganda/SRR34978882_blastn.txt'\n",
    "data33 = process_data.read_n_clean_blastn(path_b, top_hits = True, evalue = 0.05, drop_sp = True)"
   ]
  },
  {
   "cell_type": "code",
   "execution_count": null,
   "id": "c5ca1bc4-7782-4033-ae28-27e73c75ec36",
   "metadata": {},
   "outputs": [],
   "source": [
    "data_nms = (\n",
    "       \"SRR34978879\",\n",
    "       \"SRR34978880\",\n",
    "       \"SRR34978882\",\n",
    ")\n",
    "listed_data = [data11, data22, data33]\n",
    "make_plots.relative_abundance_multi(listed_data, data_nms)"
   ]
  },
  {
   "cell_type": "code",
   "execution_count": null,
   "id": "2b342490-6f71-4078-8c93-ed2c6f7c87d5",
   "metadata": {},
   "outputs": [],
   "source": [
    "path_b = '/gpfs/commons/home/mgarbulowski/data_bi_wgs/us/SRR34978769_blastn.txt'\n",
    "data111 = process_data.read_n_clean_blastn(path_b, top_hits = True, evalue = 0.05, drop_sp = True)\n",
    "\n",
    "path_b = '/gpfs/commons/home/mgarbulowski/data_bi_wgs/us/SRR34978773_blastn.txt'\n",
    "data222 = process_data.read_n_clean_blastn(path_b, top_hits = True, evalue = 0.05, drop_sp = True)\n",
    "\n",
    "path_b = '/gpfs/commons/home/mgarbulowski/data_bi_wgs/us/SRR34978795_blastn.txt'\n",
    "data333 = process_data.read_n_clean_blastn(path_b, top_hits = True, evalue = 0.05, drop_sp = True)"
   ]
  },
  {
   "cell_type": "code",
   "execution_count": null,
   "id": "ac37e6a1-cd9a-4c5f-8436-86a11b8749ae",
   "metadata": {},
   "outputs": [],
   "source": [
    "data_nms = (\n",
    "       \"SRR34978769\",\n",
    "       \"SRR34978773\",\n",
    "       \"SRR34978795\",\n",
    ")\n",
    "listed_data = [data111, data222, data333]\n",
    "make_plots.relative_abundance_multi(listed_data, data_nms)"
   ]
  },
  {
   "cell_type": "code",
   "execution_count": null,
   "id": "02ba0b59-a46e-453a-9d80-8820188abe3f",
   "metadata": {},
   "outputs": [],
   "source": []
  }
 ],
 "metadata": {
  "kernelspec": {
   "display_name": "Python 3 (ipykernel)",
   "language": "python",
   "name": "python3"
  },
  "language_info": {
   "codemirror_mode": {
    "name": "ipython",
    "version": 3
   },
   "file_extension": ".py",
   "mimetype": "text/x-python",
   "name": "python",
   "nbconvert_exporter": "python",
   "pygments_lexer": "ipython3",
   "version": "3.9.7"
  }
 },
 "nbformat": 4,
 "nbformat_minor": 5
}
