{
 "cells": [
  {
   "cell_type": "code",
   "execution_count": 2,
   "id": "9ea64c77-32ca-4c68-9a58-4167949f6bea",
   "metadata": {},
   "outputs": [
    {
     "name": "stdout",
     "output_type": "stream",
     "text": [
      "homic package imported\n"
     ]
    },
    {
     "name": "stderr",
     "output_type": "stream",
     "text": [
      "2025-09-19 09:15:11.813807: E external/local_xla/xla/stream_executor/cuda/cuda_fft.cc:477] Unable to register cuFFT factory: Attempting to register factory for plugin cuFFT when one has already been registered\n",
      "WARNING: All log messages before absl::InitializeLog() is called are written to STDERR\n",
      "E0000 00:00:1758287712.171439 2059707 cuda_dnn.cc:8310] Unable to register cuDNN factory: Attempting to register factory for plugin cuDNN when one has already been registered\n",
      "E0000 00:00:1758287712.264995 2059707 cuda_blas.cc:1418] Unable to register cuBLAS factory: Attempting to register factory for plugin cuBLAS when one has already been registered\n",
      "2025-09-19 09:15:13.285199: I tensorflow/core/platform/cpu_feature_guard.cc:210] This TensorFlow binary is optimized to use available CPU instructions in performance-critical operations.\n",
      "To enable the following instructions: AVX2 FMA, in other operations, rebuild TensorFlow with the appropriate compiler flags.\n"
     ]
    }
   ],
   "source": [
    "import sys\n",
    "import pandas as pd\n",
    "import numpy as np\n",
    "sys.path.append('/gpfs/commons/home/mgarbulowski/homic_package/src') # to load our package\n",
    "from homic import file_readers, process_data, make_plots, dl_evaluation"
   ]
  },
  {
   "cell_type": "code",
   "execution_count": 3,
   "id": "82ade4cc-e993-43cf-828e-0e9f1ad969e5",
   "metadata": {},
   "outputs": [
    {
     "name": "stdout",
     "output_type": "stream",
     "text": [
      "Help on function merge_prediction_results in module homic.dl_evaluation:\n",
      "\n",
      "merge_prediction_results(info, cluster_l, fastq_spot_d, taxa_orders, reassign_d)\n",
      "    Merges prediction results for spots.\n",
      "    \n",
      "    No default parameters. All must be specified.\n",
      "    \n",
      "    Parameters\n",
      "    ----------\n",
      "    info : str,\n",
      "        The sound the animal makes\n",
      "    cluster_l : list,\n",
      "        Frequencies of bacteria per spot. \n",
      "    fastq_spot_d : dict,\n",
      "        Indicating which coordinates (spots) belong to what read. Keys are spot IDs, values are reads IDs.\n",
      "    taxa_orders : list,\n",
      "        List including taxa levels ordered, for instance: [\"species\", \"genus\", \"family\", \"order\", \"class\", \"phylum\", \"superkingdom\"]\n",
      "    reassign_d : dict,\n",
      "        Dict of 3 column data frames. Columns correspond to read ID (1st), Kraken2 and DL prediction (2nd and 3rd). Keys are spots.\n",
      "        \n",
      "    Returns\n",
      "    -------\n",
      "    pearson_d\n",
      "        a dict of pearson correlation values for taxa levels (keys), two elements corresponds to DL and Kraken2, respectively.\n",
      "    braycurtis_d\n",
      "        a dict of Bray Curtis distances for taxa levels (keys), two elements corresponds to DL and Kraken2, respectively.\n",
      "    accuracy_d\n",
      "        a dict of accuracies for taxa levels (keys), two elements corresponds to DL and Kraken2, respectively.\n",
      "    precision_d\n",
      "        a dict of precisions for taxa levels (keys), two elements corresponds to DL and Kraken2, respectively.\n",
      "    recall_d\n",
      "        a dict of recals for taxa levels (keys), two elements corresponds to DL and Kraken2, respectively.\n",
      "\n"
     ]
    }
   ],
   "source": [
    "help(dl_evaluation.merge_prediction_results)"
   ]
  },
  {
   "cell_type": "code",
   "execution_count": null,
   "id": "05ec4d64-c69e-4bd6-985f-1f621a95bdaa",
   "metadata": {},
   "outputs": [],
   "source": []
  }
 ],
 "metadata": {
  "kernelspec": {
   "display_name": "Python 3 (ipykernel)",
   "language": "python",
   "name": "python3"
  },
  "language_info": {
   "codemirror_mode": {
    "name": "ipython",
    "version": 3
   },
   "file_extension": ".py",
   "mimetype": "text/x-python",
   "name": "python",
   "nbconvert_exporter": "python",
   "pygments_lexer": "ipython3",
   "version": "3.9.7"
  }
 },
 "nbformat": 4,
 "nbformat_minor": 5
}
