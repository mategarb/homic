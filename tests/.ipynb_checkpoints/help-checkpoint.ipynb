{
 "cells": [
  {
   "cell_type": "markdown",
   "id": "bfe50944-f85b-4528-a1f3-d25c1f2cf20e",
   "metadata": {},
   "source": [
    "# Help for the homic package"
   ]
  },
  {
   "cell_type": "code",
   "execution_count": null,
   "id": "9ea64c77-32ca-4c68-9a58-4167949f6bea",
   "metadata": {
    "scrolled": true
   },
   "outputs": [],
   "source": [
    "import sys\n",
    "import pandas as pd\n",
    "import numpy as np\n",
    "sys.path.append('/gpfs/commons/home/mgarbulowski/homic_package/src')\n",
    "from homic import file_readers, simulate_16S, kraken2, dl_model, dl_evaluation, process_data, make_plots"
   ]
  },
  {
   "cell_type": "markdown",
   "id": "268435ef-8c10-4134-8c77-4a6e28871b03",
   "metadata": {},
   "source": [
    "## Module: file_readers"
   ]
  },
  {
   "cell_type": "markdown",
   "id": "2d462016-e366-4519-8132-fe389aedb1fb",
   "metadata": {},
   "source": [
    "### Function: fasta"
   ]
  },
  {
   "cell_type": "code",
   "execution_count": null,
   "id": "5eff0bb4-035e-46f6-a656-c5bdafadf823",
   "metadata": {},
   "outputs": [],
   "source": [
    "help(file_readers.fasta)"
   ]
  },
  {
   "cell_type": "markdown",
   "id": "e6b6dd2d-510c-480d-9a99-8187de81b82b",
   "metadata": {},
   "source": [
    "### Function: fastq"
   ]
  },
  {
   "cell_type": "code",
   "execution_count": null,
   "id": "0f36fa5d-a156-4ab3-9e84-4ee00765f41d",
   "metadata": {},
   "outputs": [],
   "source": [
    "help(file_readers.fastq)"
   ]
  },
  {
   "cell_type": "markdown",
   "id": "1c6a9534-7323-48ae-9b8c-778029c054d2",
   "metadata": {},
   "source": [
    "### Function: save_fasta_as_rev_comp"
   ]
  },
  {
   "cell_type": "code",
   "execution_count": null,
   "id": "a0e94815-50c3-4f08-aa0a-92c7711ff9de",
   "metadata": {},
   "outputs": [],
   "source": [
    "help(file_readers.save_fasta_as_rev_comp)"
   ]
  },
  {
   "cell_type": "markdown",
   "id": "7df2d619-b04f-4c59-88b9-3811db537904",
   "metadata": {},
   "source": [
    "### Function: save_fastq_as_rev_comp"
   ]
  },
  {
   "cell_type": "code",
   "execution_count": null,
   "id": "2c90c775-2a43-4681-b7a0-99ab6abb2220",
   "metadata": {},
   "outputs": [],
   "source": [
    "help(file_readers.save_fastq_as_rev_comp)"
   ]
  },
  {
   "cell_type": "markdown",
   "id": "ed881a02-b872-4929-910c-3c26d5e6ff8c",
   "metadata": {},
   "source": [
    "### Function: load_kraken2_output"
   ]
  },
  {
   "cell_type": "code",
   "execution_count": null,
   "id": "3c9bd136-3280-48de-a775-0dddf8e09467",
   "metadata": {},
   "outputs": [],
   "source": [
    "help(file_readers.load_kraken2_output)"
   ]
  },
  {
   "cell_type": "markdown",
   "id": "f3f1b96c-725b-4d3d-9d93-736b7240fdce",
   "metadata": {},
   "source": [
    "### Function: load_barcodes"
   ]
  },
  {
   "cell_type": "code",
   "execution_count": null,
   "id": "6969cbf8-c3bc-4201-bdd6-da761b153c6b",
   "metadata": {},
   "outputs": [],
   "source": [
    "help(file_readers.load_barcodes)"
   ]
  },
  {
   "cell_type": "markdown",
   "id": "fe372b6a-b4f8-4869-809c-3a7608cd1143",
   "metadata": {},
   "source": [
    "### Function: make_benchmark_table"
   ]
  },
  {
   "cell_type": "code",
   "execution_count": null,
   "id": "a4db6119-f74c-4884-bcf3-c90960b838fa",
   "metadata": {},
   "outputs": [],
   "source": [
    "help(file_readers.make_benchmark_table)"
   ]
  },
  {
   "cell_type": "markdown",
   "id": "b8d8e07c-a1b3-4e4a-8100-858b34d0db6b",
   "metadata": {},
   "source": [
    "## Module: simulate_16S"
   ]
  },
  {
   "cell_type": "markdown",
   "id": "d8174239-9b24-495f-a678-475a3c646371",
   "metadata": {},
   "source": [
    "### Function: training_data"
   ]
  },
  {
   "cell_type": "code",
   "execution_count": null,
   "id": "b244fd9d-875f-421e-87da-54d9fe304006",
   "metadata": {},
   "outputs": [],
   "source": [
    "help(simulate_16S.training_data)"
   ]
  },
  {
   "cell_type": "markdown",
   "id": "fad5fe6d-ee23-46b5-a605-5737943c3e3f",
   "metadata": {},
   "source": [
    "### Function: training_data_fast"
   ]
  },
  {
   "cell_type": "code",
   "execution_count": null,
   "id": "464024ff-b0ad-4bc0-adef-87d1d60e5f71",
   "metadata": {},
   "outputs": [],
   "source": [
    "help(simulate_16S.training_data_fast)"
   ]
  },
  {
   "cell_type": "code",
   "execution_count": null,
   "id": "5505b21c-95e7-43bb-8264-6b8722c647fc",
   "metadata": {},
   "outputs": [],
   "source": [
    "help(simulate_16S.training_data)"
   ]
  },
  {
   "cell_type": "markdown",
   "id": "d7f37505-814e-4179-b290-8f15390b8421",
   "metadata": {},
   "source": [
    "### Function: validation_data"
   ]
  },
  {
   "cell_type": "code",
   "execution_count": null,
   "id": "f4a6dba1-900c-4dec-8877-2e4ac01f9111",
   "metadata": {},
   "outputs": [],
   "source": [
    "help(simulate_16S.validation_data)"
   ]
  },
  {
   "cell_type": "code",
   "execution_count": null,
   "id": "62b91c45-1a18-4703-8c7e-da313efafe8f",
   "metadata": {},
   "outputs": [],
   "source": []
  },
  {
   "cell_type": "markdown",
   "id": "9cf3759e-0519-492a-b631-d45486a57aa7",
   "metadata": {},
   "source": [
    "### Function: simulate_barcodes"
   ]
  },
  {
   "cell_type": "code",
   "execution_count": null,
   "id": "411d2dbb-aeeb-4d90-a920-39a55f0ebacb",
   "metadata": {},
   "outputs": [],
   "source": [
    "help(simulate_16S.simulate_barcodes)"
   ]
  },
  {
   "cell_type": "markdown",
   "id": "f5d9b91a-ef5a-46c0-b78a-0865fbb6fdf3",
   "metadata": {},
   "source": [
    "## Module: kraken2"
   ]
  },
  {
   "cell_type": "markdown",
   "id": "eb1bf155-1d65-4e6d-bb43-8f4e5dd50a0c",
   "metadata": {},
   "source": [
    "### Function: prepare_db"
   ]
  },
  {
   "cell_type": "code",
   "execution_count": null,
   "id": "710ccfc4-766b-497e-9828-c505f849c5b0",
   "metadata": {},
   "outputs": [],
   "source": [
    "help(kraken2.prepare_db)"
   ]
  },
  {
   "cell_type": "markdown",
   "id": "42fb973c-9d65-4bdf-890e-15d3b22058f8",
   "metadata": {},
   "source": [
    "### Function: classify"
   ]
  },
  {
   "cell_type": "code",
   "execution_count": null,
   "id": "61d21ae4-ca12-4b21-bf00-13a94d853bb9",
   "metadata": {},
   "outputs": [],
   "source": [
    "help(kraken2.classify)"
   ]
  },
  {
   "cell_type": "markdown",
   "id": "7f104a0f-608f-48a6-8f84-60d44e454e7e",
   "metadata": {},
   "source": [
    "### Function: decontaminate_single"
   ]
  },
  {
   "cell_type": "code",
   "execution_count": null,
   "id": "71fdcd8f-037b-4ff9-8c8e-fa1d9880b5ba",
   "metadata": {},
   "outputs": [],
   "source": [
    "help(kraken2.decontaminate_single)"
   ]
  },
  {
   "cell_type": "markdown",
   "id": "2d7ada9c-0de0-4f3d-a2cc-a9e0d501f8fb",
   "metadata": {},
   "source": [
    "### Function: decontaminate_paired"
   ]
  },
  {
   "cell_type": "code",
   "execution_count": null,
   "id": "fb2030a8-09ab-4b60-a03d-7d725527ea41",
   "metadata": {},
   "outputs": [],
   "source": [
    "help(kraken2.decontaminate_paired)"
   ]
  },
  {
   "cell_type": "markdown",
   "id": "752d7454-2daa-4402-87af-824bf8360b3f",
   "metadata": {},
   "source": [
    "### Function: evaluate_kraken"
   ]
  },
  {
   "cell_type": "code",
   "execution_count": null,
   "id": "1d12ee7f-ce8e-4177-90e1-bb19b1ebc568",
   "metadata": {},
   "outputs": [],
   "source": [
    "help(kraken2.evaluate_kraken)"
   ]
  },
  {
   "cell_type": "markdown",
   "id": "f011f1ea-b6f5-4ef8-8734-9d0b10409d52",
   "metadata": {},
   "source": [
    "## Module: dl_model"
   ]
  },
  {
   "cell_type": "markdown",
   "id": "0f5eba2b-2666-49b2-a2c3-9564d668382e",
   "metadata": {},
   "source": [
    "## Module: dl_evaluation"
   ]
  },
  {
   "cell_type": "markdown",
   "id": "fdce8dae-af1d-4267-8ca6-e14b5a3c37c3",
   "metadata": {},
   "source": [
    "### Function: reassign_classes_per_spot"
   ]
  },
  {
   "cell_type": "code",
   "execution_count": null,
   "id": "e59e4c03-5cfa-49f6-8ed5-1c3be29cbc8a",
   "metadata": {},
   "outputs": [],
   "source": [
    "help(dl_evaluation.reassign_classes_per_spot)"
   ]
  },
  {
   "cell_type": "markdown",
   "id": "49555d42-f32c-4c69-b909-e115aa827759",
   "metadata": {},
   "source": [
    "### Function: merge_prediction_results"
   ]
  },
  {
   "cell_type": "code",
   "execution_count": null,
   "id": "b97b1de2-5c97-4e2d-9bba-a8390a2eceaa",
   "metadata": {},
   "outputs": [],
   "source": [
    "help(dl_evaluation.merge_prediction_results)"
   ]
  },
  {
   "cell_type": "markdown",
   "id": "02f54288-aae7-446d-9b39-2d43840606eb",
   "metadata": {},
   "source": [
    "### Function: per_spot_stats"
   ]
  },
  {
   "cell_type": "code",
   "execution_count": null,
   "id": "37d82917-8076-41b8-b2d9-9df8f740ea93",
   "metadata": {},
   "outputs": [],
   "source": [
    "help(dl_evaluation.per_spot_stats)"
   ]
  },
  {
   "cell_type": "markdown",
   "id": "352db6b7-da86-4e4e-a069-c222d2645f44",
   "metadata": {},
   "source": [
    "## Module: process_data"
   ]
  },
  {
   "cell_type": "markdown",
   "id": "07e55f95-c31e-4d89-9ba8-457d826615bc",
   "metadata": {},
   "source": [
    "## Module: make_plots"
   ]
  }
 ],
 "metadata": {
  "kernelspec": {
   "display_name": "Python 3 (ipykernel)",
   "language": "python",
   "name": "python3"
  },
  "language_info": {
   "codemirror_mode": {
    "name": "ipython",
    "version": 3
   },
   "file_extension": ".py",
   "mimetype": "text/x-python",
   "name": "python",
   "nbconvert_exporter": "python",
   "pygments_lexer": "ipython3",
   "version": "3.9.7"
  }
 },
 "nbformat": 4,
 "nbformat_minor": 5
}
