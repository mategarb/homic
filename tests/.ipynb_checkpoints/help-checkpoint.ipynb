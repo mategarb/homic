{
 "cells": [
  {
   "cell_type": "markdown",
   "id": "bfe50944-f85b-4528-a1f3-d25c1f2cf20e",
   "metadata": {},
   "source": [
    "# Help for the homic package"
   ]
  },
  {
   "cell_type": "code",
   "execution_count": 6,
   "id": "9ea64c77-32ca-4c68-9a58-4167949f6bea",
   "metadata": {
    "scrolled": true
   },
   "outputs": [],
   "source": [
    "import sys\n",
    "import pandas as pd\n",
    "import numpy as np\n",
    "sys.path.append('/gpfs/commons/home/mgarbulowski/homic_package/src') # to load our package\n",
    "from homic import file_readers, simulate16S, kraken2, dl_model, dl_evaluation, process_data, make_plots"
   ]
  },
  {
   "cell_type": "markdown",
   "id": "268435ef-8c10-4134-8c77-4a6e28871b03",
   "metadata": {},
   "source": [
    "## Module: file_readers"
   ]
  },
  {
   "cell_type": "code",
   "execution_count": null,
   "id": "a2dfc60a-e535-43d3-b64c-3487e1388e6d",
   "metadata": {},
   "outputs": [],
   "source": [
    "### Function: make_benchmark_table"
   ]
  },
  {
   "cell_type": "code",
   "execution_count": null,
   "id": "a4db6119-f74c-4884-bcf3-c90960b838fa",
   "metadata": {},
   "outputs": [],
   "source": [
    "help(file_readers.make_benchmark_table)"
   ]
  },
  {
   "cell_type": "markdown",
   "id": "b8d8e07c-a1b3-4e4a-8100-858b34d0db6b",
   "metadata": {},
   "source": [
    "## Module: simulate_16S"
   ]
  },
  {
   "cell_type": "markdown",
   "id": "f5d9b91a-ef5a-46c0-b78a-0865fbb6fdf3",
   "metadata": {},
   "source": [
    "## Module: kraken2"
   ]
  },
  {
   "cell_type": "markdown",
   "id": "f011f1ea-b6f5-4ef8-8734-9d0b10409d52",
   "metadata": {},
   "source": [
    "## Module: dl_model"
   ]
  },
  {
   "cell_type": "markdown",
   "id": "0f5eba2b-2666-49b2-a2c3-9564d668382e",
   "metadata": {},
   "source": [
    "## Module: dl_evaluation"
   ]
  },
  {
   "cell_type": "markdown",
   "id": "fdce8dae-af1d-4267-8ca6-e14b5a3c37c3",
   "metadata": {},
   "source": [
    "### Function: reassign_classes_per_spot"
   ]
  },
  {
   "cell_type": "code",
   "execution_count": 2,
   "id": "e59e4c03-5cfa-49f6-8ed5-1c3be29cbc8a",
   "metadata": {},
   "outputs": [
    {
     "name": "stdout",
     "output_type": "stream",
     "text": [
      "Help on function reassign_classes_per_spot in module homic.dl_evaluation:\n",
      "\n",
      "reassign_classes_per_spot(info, model, encoder)\n",
      "    Prints statistics for spots.\n",
      "    \n",
      "    No default parameters. All must be specified.\n",
      "    \n",
      "    Parameters\n",
      "    ----------\n",
      "    info : pandas DataFrame with following columns,\n",
      "        'fastq' - fastq full header\n",
      "        'tile' - tile id (from header)\n",
      "        'x' - position x  (from header)\n",
      "        'y' - position y (from header)\n",
      "        'taxa1' - species part I, truth\n",
      "        'taxa2' - species part II, truth\n",
      "        'read' - read sequence \n",
      "        'taxa_predictions' - taxid of predictions from Kraken2\n",
      "        'taxa' - truth species, truth\n",
      "        'taxa_order' - truth taxa information, ordered \n",
      "        'superkingdom' - taxid predictions from Kraken2 translated to taxa info via ete3\n",
      "        'phylum' - taxid predictions from Kraken2 translated to taxa info via ete3\n",
      "        'class' - taxid predictions from Kraken2 translated to taxa info via ete3\n",
      "        'order' - taxid predictions from Kraken2 translated to taxa info via ete3\n",
      "        'family' - taxid predictions from Kraken2 translated to taxa info via ete3\n",
      "        'genus' - taxid predictions from Kraken2 translated to taxa info via ete3\n",
      "        'species' - taxid predictions from Kraken2 translated to taxa info via ete3\n",
      "        'barcode' - barcode sequence\n",
      "        'Bx' - barcode position X, spot definition (for synthetic data, assigned randomly)\n",
      "        'By' - barcode position Y, spot definition (for synthetic data, assigned randomly)\n",
      "    model : keras-based model,\n",
      "        Deep learning model at species / genus level.\n",
      "    encoder : sklearn-based encoder,\n",
      "        Enocder including species / genus names.\n",
      "    \n",
      "    Returns\n",
      "    -------\n",
      "    cluster_l\n",
      "        a list of bacteria frequencies bacteria per spot. \n",
      "    reassign_d\n",
      "        a dict of 3 column data frames. Columns correspond to read ID (1st), Kraken2 and DL prediction (2nd and 3rd). Keys are spots.\n",
      "\n"
     ]
    }
   ],
   "source": [
    "help(dl_evaluation.reassign_classes_per_spot)"
   ]
  },
  {
   "cell_type": "markdown",
   "id": "49555d42-f32c-4c69-b909-e115aa827759",
   "metadata": {},
   "source": [
    "### Function: merge_prediction_results"
   ]
  },
  {
   "cell_type": "code",
   "execution_count": 3,
   "id": "b97b1de2-5c97-4e2d-9bba-a8390a2eceaa",
   "metadata": {},
   "outputs": [
    {
     "name": "stdout",
     "output_type": "stream",
     "text": [
      "Help on function merge_prediction_results in module homic.dl_evaluation:\n",
      "\n",
      "merge_prediction_results(info, cluster_l, fastq_spot_d, taxa_orders, reassign_d)\n",
      "    Merges prediction results for spots.\n",
      "    \n",
      "    No default parameters. All must be specified.\n",
      "    \n",
      "    Parameters\n",
      "    ----------\n",
      "    info : pandas DataFrame with following columns,\n",
      "        'fastq' - fastq full header\n",
      "        'tile' - tile id (from header)\n",
      "        'x' - position x  (from header)\n",
      "        'y' - position y (from header)\n",
      "        'taxa1' - species part I, truth\n",
      "        'taxa2' - species part II, truth\n",
      "        'read' - read sequence \n",
      "        'taxa_predictions' - taxid of predictions from Kraken2\n",
      "        'taxa' - truth species, truth\n",
      "        'taxa_order' - truth taxa information, ordered \n",
      "        'superkingdom' - taxid predictions from Kraken2 translated to taxa info via ete3\n",
      "        'phylum' - taxid predictions from Kraken2 translated to taxa info via ete3\n",
      "        'class' - taxid predictions from Kraken2 translated to taxa info via ete3\n",
      "        'order' - taxid predictions from Kraken2 translated to taxa info via ete3\n",
      "        'family' - taxid predictions from Kraken2 translated to taxa info via ete3\n",
      "        'genus' - taxid predictions from Kraken2 translated to taxa info via ete3\n",
      "        'species' - taxid predictions from Kraken2 translated to taxa info via ete3\n",
      "        'barcode' - barcode sequence\n",
      "        'Bx' - barcode position X, spot definition (for synthetic data, assigned randomly)\n",
      "        'By' - barcode position Y, spot definition (for synthetic data, assigned randomly)\n",
      "    cluster_l : list,\n",
      "        Frequencies of bacteria per spot. \n",
      "    fastq_spot_d : dict,\n",
      "        Indicating which coordinates (spots) belong to what read. Keys are spot IDs, values are reads IDs.\n",
      "    taxa_orders : list,\n",
      "        List including taxa levels ordered, for instance: [\"species\", \"genus\", \"family\", \"order\", \"class\", \"phylum\", \"superkingdom\"]\n",
      "    reassign_d : dict,\n",
      "        Dict of 3 column data frames. Columns correspond to read ID (1st), Kraken2 and DL prediction (2nd and 3rd). Keys are spots.\n",
      "        \n",
      "    Returns\n",
      "    -------\n",
      "    pearson_d\n",
      "        a dict of pearson correlation values for taxa levels (keys), two elements corresponds to DL and Kraken2, respectively.\n",
      "    braycurtis_d\n",
      "        a dict of Bray Curtis distances for taxa levels (keys), two elements corresponds to DL and Kraken2, respectively.\n",
      "    accuracy_d\n",
      "        a dict of accuracies for taxa levels (keys), two elements corresponds to DL and Kraken2, respectively.\n",
      "    precision_d\n",
      "        a dict of precisions for taxa levels (keys), two elements corresponds to DL and Kraken2, respectively.\n",
      "    recall_d\n",
      "        a dict of recals for taxa levels (keys), two elements corresponds to DL and Kraken2, respectively.\n",
      "\n"
     ]
    }
   ],
   "source": [
    "help(dl_evaluation.merge_prediction_results)"
   ]
  },
  {
   "cell_type": "markdown",
   "id": "02f54288-aae7-446d-9b39-2d43840606eb",
   "metadata": {},
   "source": [
    "### Function: per_spot_stats"
   ]
  },
  {
   "cell_type": "code",
   "execution_count": 5,
   "id": "37d82917-8076-41b8-b2d9-9df8f740ea93",
   "metadata": {},
   "outputs": [
    {
     "name": "stdout",
     "output_type": "stream",
     "text": [
      "Help on function per_spot_stats in module homic.dl_evaluation:\n",
      "\n",
      "per_spot_stats(info, reassign_d, fastq_spot_d, taxa_orders)\n",
      "    Prints statistics for spots.\n",
      "    \n",
      "    No default parameters. All must be specified.\n",
      "    \n",
      "    Parameters\n",
      "    ----------\n",
      "    info : pandas DataFrame with following columns,\n",
      "        'fastq' - fastq full header\n",
      "        'tile' - tile id (from header)\n",
      "        'x' - position x  (from header)\n",
      "        'y' - position y (from header)\n",
      "        'taxa1' - species part I, truth\n",
      "        'taxa2' - species part II, truth\n",
      "        'read' - read sequence \n",
      "        'taxa_predictions' - taxid of predictions from Kraken2\n",
      "        'taxa' - truth species, truth\n",
      "        'taxa_order' - truth taxa information, ordered \n",
      "        'superkingdom' - taxid predictions from Kraken2 translated to taxa info via ete3\n",
      "        'phylum' - taxid predictions from Kraken2 translated to taxa info via ete3\n",
      "        'class' - taxid predictions from Kraken2 translated to taxa info via ete3\n",
      "        'order' - taxid predictions from Kraken2 translated to taxa info via ete3\n",
      "        'family' - taxid predictions from Kraken2 translated to taxa info via ete3\n",
      "        'genus' - taxid predictions from Kraken2 translated to taxa info via ete3\n",
      "        'species' - taxid predictions from Kraken2 translated to taxa info via ete3\n",
      "        'barcode' - barcode sequence\n",
      "        'Bx' - barcode position X, spot definition (for synthetic data, assigned randomly)\n",
      "        'By' - barcode position Y, spot definition (for synthetic data, assigned randomly)\n",
      "    reassign_d : dict,\n",
      "        Dict of 3 column data frames. Columns correspond to read ID (1st), Kraken2 and DL prediction (2nd and 3rd). Keys are spots.\n",
      "    fastq_spot_d : dict,\n",
      "        Indicating which coordinates (spots) belong to what read. Keys are spot IDs, values are reads IDs.\n",
      "    taxa_orders : list,\n",
      "        List including taxa levels ordered, for instance: [\"species\", \"genus\", \"family\", \"order\", \"class\", \"phylum\", \"superkingdom\"]\n",
      "    \n",
      "    Returns\n",
      "    -------\n",
      "    stats_d\n",
      "        a dict of data frames (for each spot) with following columns taxa order, type (kraken or DL), accuracy, F1-score, False Pos, NAs, Misclassified.\n",
      "\n"
     ]
    }
   ],
   "source": [
    "help(dl_evaluation.per_spot_stats)"
   ]
  },
  {
   "cell_type": "code",
   "execution_count": null,
   "id": "455a8654-6e0d-4e0f-b482-f00e7a1c29f5",
   "metadata": {},
   "outputs": [],
   "source": [
    "## Module: process_data"
   ]
  },
  {
   "cell_type": "code",
   "execution_count": null,
   "id": "036b7d5c-ca0b-4b3a-a763-103a72b5e599",
   "metadata": {},
   "outputs": [],
   "source": [
    "## Module: make_plots"
   ]
  }
 ],
 "metadata": {
  "kernelspec": {
   "display_name": "Python 3 (ipykernel)",
   "language": "python",
   "name": "python3"
  },
  "language_info": {
   "codemirror_mode": {
    "name": "ipython",
    "version": 3
   },
   "file_extension": ".py",
   "mimetype": "text/x-python",
   "name": "python",
   "nbconvert_exporter": "python",
   "pygments_lexer": "ipython3",
   "version": "3.9.7"
  }
 },
 "nbformat": 4,
 "nbformat_minor": 5
}
