{
 "cells": [
  {
   "cell_type": "markdown",
   "id": "bfe50944-f85b-4528-a1f3-d25c1f2cf20e",
   "metadata": {},
   "source": [
    "# Help for the homic package"
   ]
  },
  {
   "cell_type": "code",
   "execution_count": 2,
   "id": "9ea64c77-32ca-4c68-9a58-4167949f6bea",
   "metadata": {
    "scrolled": true
   },
   "outputs": [
    {
     "name": "stdout",
     "output_type": "stream",
     "text": [
      "homic package imported\n"
     ]
    },
    {
     "name": "stderr",
     "output_type": "stream",
     "text": [
      "2025-09-25 11:02:26.002812: E external/local_xla/xla/stream_executor/cuda/cuda_fft.cc:477] Unable to register cuFFT factory: Attempting to register factory for plugin cuFFT when one has already been registered\n",
      "WARNING: All log messages before absl::InitializeLog() is called are written to STDERR\n",
      "E0000 00:00:1758812546.544112 3893726 cuda_dnn.cc:8310] Unable to register cuDNN factory: Attempting to register factory for plugin cuDNN when one has already been registered\n",
      "E0000 00:00:1758812546.722557 3893726 cuda_blas.cc:1418] Unable to register cuBLAS factory: Attempting to register factory for plugin cuBLAS when one has already been registered\n",
      "2025-09-25 11:02:27.716152: I tensorflow/core/platform/cpu_feature_guard.cc:210] This TensorFlow binary is optimized to use available CPU instructions in performance-critical operations.\n",
      "To enable the following instructions: AVX2 FMA, in other operations, rebuild TensorFlow with the appropriate compiler flags.\n"
     ]
    }
   ],
   "source": [
    "import sys\n",
    "import pandas as pd\n",
    "import numpy as np\n",
    "sys.path.append('/gpfs/commons/home/mgarbulowski/homic_package/src')\n",
    "from homic import file_readers, simulate_16S, kraken2, dl_model, dl_evaluation, process_data, make_plots"
   ]
  },
  {
   "cell_type": "markdown",
   "id": "268435ef-8c10-4134-8c77-4a6e28871b03",
   "metadata": {},
   "source": [
    "## Module: file_readers"
   ]
  },
  {
   "cell_type": "markdown",
   "id": "2d462016-e366-4519-8132-fe389aedb1fb",
   "metadata": {},
   "source": [
    "### Function: fasta"
   ]
  },
  {
   "cell_type": "code",
   "execution_count": 3,
   "id": "5eff0bb4-035e-46f6-a656-c5bdafadf823",
   "metadata": {},
   "outputs": [
    {
     "name": "stdout",
     "output_type": "stream",
     "text": [
      "Help on function fasta in module homic.file_readers:\n",
      "\n",
      "fasta(path)\n",
      "    Reads fasta file and prints the number of organisms in the file.\n",
      "    \n",
      "    No default parameters. All must be specified.\n",
      "    \n",
      "    Parameters\n",
      "    ----------\n",
      "    path : string,\n",
      "        path to the .fasta file.\n",
      "    \n",
      "    Returns\n",
      "    -------\n",
      "    fasta_dict\n",
      "        a dictionary with organisms included in the .fasta file\n",
      "\n"
     ]
    }
   ],
   "source": [
    "help(file_readers.fasta)"
   ]
  },
  {
   "cell_type": "markdown",
   "id": "fe372b6a-b4f8-4869-809c-3a7608cd1143",
   "metadata": {},
   "source": [
    "### Function: make_benchmark_table"
   ]
  },
  {
   "cell_type": "code",
   "execution_count": 2,
   "id": "a4db6119-f74c-4884-bcf3-c90960b838fa",
   "metadata": {},
   "outputs": [
    {
     "name": "stdout",
     "output_type": "stream",
     "text": [
      "Help on function make_benchmark_table in module homic.file_readers:\n",
      "\n",
      "make_benchmark_table(path, reads, krk_preds, bcodes)\n",
      "    Creates a table for benchmarking spots.\n",
      "    \n",
      "    No default parameters. All must be specified.\n",
      "    \n",
      "    Parameters\n",
      "    ----------\n",
      "    path : string,\n",
      "        path to the gold trurth species / genus list.\n",
      "    reads : list,\n",
      "        \"reads\" list read with the file_readers.fastq function\n",
      "    krk_preds : pandas Series,\n",
      "        taken as a column \"taxa\" from output of file_readers.load_kraken2_output(path)\n",
      "    bcodes : pandas DataFrame,\n",
      "        the output from file_readers.load_barcodes(path)\n",
      "        \n",
      "    \n",
      "    Returns\n",
      "    -------\n",
      "    fastq_spot_d\n",
      "        a dict indicating which coordinates (spots) belong to what read. Keys are spot IDs, values are reads IDs.\n",
      "    info\n",
      "        pandas DataFrame with following columns:\n",
      "        'fastq' - fastq full header\n",
      "        'tile' - tile id (from header)\n",
      "        'x' - position x  (from header)\n",
      "        'y' - position y (from header)\n",
      "        'taxa1' - species part I, truth\n",
      "        'taxa2' - species part II, truth\n",
      "        'read' - read sequence \n",
      "        'taxa_predictions' - taxid of predictions from Kraken2\n",
      "        'taxa' - truth species, truth\n",
      "        'taxa_order' - truth taxa information, ordered \n",
      "        'superkingdom' - taxid predictions from Kraken2 translated to taxa info via ete3\n",
      "        'phylum' - taxid predictions from Kraken2 translated to taxa info via ete3\n",
      "        'class' - taxid predictions from Kraken2 translated to taxa info via ete3\n",
      "        'order' - taxid predictions from Kraken2 translated to taxa info via ete3\n",
      "        'family' - taxid predictions from Kraken2 translated to taxa info via ete3\n",
      "        'genus' - taxid predictions from Kraken2 translated to taxa info via ete3\n",
      "        'species' - taxid predictions from Kraken2 translated to taxa info via ete3\n",
      "        'barcode' - barcode sequence\n",
      "        'Bx' - barcode position X, spot definition (for synthetic data, assigned randomly)\n",
      "        'By' - barcode position Y, spot definition (for synthetic data, assigned randomly)\n",
      "\n"
     ]
    }
   ],
   "source": [
    "help(file_readers.make_benchmark_table)"
   ]
  },
  {
   "cell_type": "markdown",
   "id": "b8d8e07c-a1b3-4e4a-8100-858b34d0db6b",
   "metadata": {},
   "source": [
    "## Module: simulate_16S"
   ]
  },
  {
   "cell_type": "markdown",
   "id": "f5d9b91a-ef5a-46c0-b78a-0865fbb6fdf3",
   "metadata": {},
   "source": [
    "## Module: kraken2"
   ]
  },
  {
   "cell_type": "markdown",
   "id": "fad5fe6d-ee23-46b5-a605-5737943c3e3f",
   "metadata": {},
   "source": [
    "### Function: prepare_db"
   ]
  },
  {
   "cell_type": "code",
   "execution_count": 3,
   "id": "710ccfc4-766b-497e-9828-c505f849c5b0",
   "metadata": {},
   "outputs": [
    {
     "name": "stdout",
     "output_type": "stream",
     "text": [
      "Help on function prepare_db in module homic.kraken2:\n",
      "\n",
      "prepare_db(db_path, ref_path)\n",
      "    Builds db for kraken2.\n",
      "    \n",
      "    Parameters\n",
      "    ----------\n",
      "    db_path : string,\n",
      "        a path to the folder where kraken db will be created\n",
      "    ref_path : string,\n",
      "        a path to the input .fasta file with reference sequences\n",
      "        \n",
      "    Returns\n",
      "    -------\n",
      "    no output\n",
      "        files are saved to the folder under \"db_path\"\n",
      "\n"
     ]
    }
   ],
   "source": [
    "help(kraken2.prepare_db)"
   ]
  },
  {
   "cell_type": "markdown",
   "id": "42fb973c-9d65-4bdf-890e-15d3b22058f8",
   "metadata": {},
   "source": [
    "### Function: classify"
   ]
  },
  {
   "cell_type": "code",
   "execution_count": 4,
   "id": "61d21ae4-ca12-4b21-bf00-13a94d853bb9",
   "metadata": {},
   "outputs": [
    {
     "name": "stdout",
     "output_type": "stream",
     "text": [
      "Help on function classify in module homic.kraken2:\n",
      "\n",
      "classify(db_path, input_file, confidence=0.01, threads=8, min_hit_gr=2)\n",
      "    Classifies reads to genus / species according to db.\n",
      "    \n",
      "    Parameters\n",
      "    ----------\n",
      "    db_path : string,\n",
      "        a path to kraken db\n",
      "    input_file : string,\n",
      "        a path to input .fastq file\n",
      "    confidence : float,\n",
      "        kraken2 parameter - confidence (-T)\n",
      "    threads : intiger,\n",
      "        kraken2 parameter - number of threads (-p)\n",
      "    min_hit_gr : intiger,\n",
      "        kraken2 parameter - minimum hitting group (-g)\n",
      "    \n",
      "    Returns\n",
      "    -------\n",
      "    output\n",
      "        a data frame with following columns 'outcome', 'seqid', 'taxid', 'seqlen' and 'kmers'\n",
      "\n"
     ]
    }
   ],
   "source": [
    "help(kraken2.classify)"
   ]
  },
  {
   "cell_type": "markdown",
   "id": "7f104a0f-608f-48a6-8f84-60d44e454e7e",
   "metadata": {},
   "source": [
    "### Function: decontaminate_single"
   ]
  },
  {
   "cell_type": "code",
   "execution_count": 5,
   "id": "71fdcd8f-037b-4ff9-8c8e-fa1d9880b5ba",
   "metadata": {},
   "outputs": [
    {
     "name": "stdout",
     "output_type": "stream",
     "text": [
      "Help on function decontaminate_single in module homic.kraken2:\n",
      "\n",
      "decontaminate_single(db_path, input_file, output, confidence=0.5, threads=8, min_base_qual=22)\n",
      "    Decontamination with kraken2 for single .fastq (unpaired).\n",
      "    \n",
      "    Parameters\n",
      "    ----------\n",
      "    db_path : string,\n",
      "        a path to kraken db\n",
      "    input_file : string,\n",
      "        a path to the .fastq file\n",
      "    output : string,\n",
      "        a path to the output .fastq file where host reads are removed\n",
      "    confidence : float,\n",
      "        kraken2 parameter - confidence (--confidence)\n",
      "    threads : intiger,\n",
      "        kraken2 parameter - number of threads (--threads)\n",
      "    min_base_qual : intiger,\n",
      "        kraken2 parameter - minimum base quality (--minimum-base-quality)\n",
      "        \n",
      "    Returns\n",
      "    -------\n",
      "    no output, files are saved under \"output\"\n",
      "\n"
     ]
    }
   ],
   "source": [
    "help(kraken2.decontaminate_single)"
   ]
  },
  {
   "cell_type": "markdown",
   "id": "2d7ada9c-0de0-4f3d-a2cc-a9e0d501f8fb",
   "metadata": {},
   "source": [
    "### Function: decontaminate_paired"
   ]
  },
  {
   "cell_type": "code",
   "execution_count": 6,
   "id": "fb2030a8-09ab-4b60-a03d-7d725527ea41",
   "metadata": {},
   "outputs": [
    {
     "name": "stdout",
     "output_type": "stream",
     "text": [
      "Help on function decontaminate_paired in module homic.kraken2:\n",
      "\n",
      "decontaminate_paired(db_path, input_file1, input_file2, output, confidence=0.5, threads=12, min_base_qual=22)\n",
      "    Decontamination with kraken2 for paired .fastq files.\n",
      "    \n",
      "    Parameters\n",
      "    ----------\n",
      "    db_path : string,\n",
      "        a path to kraken db\n",
      "    input_file1 : string,\n",
      "        a path to the first .fastq file\n",
      "    input_file2 : string,\n",
      "        a path to the second .fastq file\n",
      "    output : string,\n",
      "        a path to the output .fastq file where host reads are removed\n",
      "    confidence : float,\n",
      "        kraken2 parameter - confidence (--confidence)\n",
      "    threads : intiger,\n",
      "        kraken2 parameter - number of threads (--threads)\n",
      "    min_base_qual : intiger,\n",
      "        kraken2 parameter - minimum base quality (--minimum-base-quality)\n",
      "        \n",
      "    Returns\n",
      "    -------\n",
      "    no output, files are saved under \"output\"\n",
      "\n"
     ]
    }
   ],
   "source": [
    "help(kraken2.decontaminate_paired)"
   ]
  },
  {
   "cell_type": "markdown",
   "id": "752d7454-2daa-4402-87af-824bf8360b3f",
   "metadata": {},
   "source": [
    "### Function: evaluate_kraken"
   ]
  },
  {
   "cell_type": "code",
   "execution_count": 7,
   "id": "1d12ee7f-ce8e-4177-90e1-bb19b1ebc568",
   "metadata": {},
   "outputs": [
    {
     "name": "stdout",
     "output_type": "stream",
     "text": [
      "Help on function evaluate_kraken in module homic.kraken2:\n",
      "\n",
      "evaluate_kraken(krk_path, gs_path)\n",
      "    Evaluates kraken2 prediction with gold standard.\n",
      "    \n",
      "    Parameters\n",
      "    ----------\n",
      "    krk_path : string,\n",
      "        a path to kraken2 result (.csv)\n",
      "    gs_path : string,\n",
      "        a path to the gold stanard file (.txt)\n",
      "    \n",
      "    Returns\n",
      "    -------\n",
      "        a value of accuracy\n",
      "\n"
     ]
    }
   ],
   "source": [
    "help(kraken2.evaluate_kraken)"
   ]
  },
  {
   "cell_type": "markdown",
   "id": "f011f1ea-b6f5-4ef8-8734-9d0b10409d52",
   "metadata": {},
   "source": [
    "## Module: dl_model"
   ]
  },
  {
   "cell_type": "markdown",
   "id": "0f5eba2b-2666-49b2-a2c3-9564d668382e",
   "metadata": {},
   "source": [
    "## Module: dl_evaluation"
   ]
  },
  {
   "cell_type": "markdown",
   "id": "fdce8dae-af1d-4267-8ca6-e14b5a3c37c3",
   "metadata": {},
   "source": [
    "### Function: reassign_classes_per_spot"
   ]
  },
  {
   "cell_type": "code",
   "execution_count": 8,
   "id": "e59e4c03-5cfa-49f6-8ed5-1c3be29cbc8a",
   "metadata": {},
   "outputs": [
    {
     "name": "stdout",
     "output_type": "stream",
     "text": [
      "Help on function reassign_classes_per_spot in module homic.dl_evaluation:\n",
      "\n",
      "reassign_classes_per_spot(info, model, encoder)\n",
      "    Prints statistics for spots.\n",
      "    \n",
      "    No default parameters. All must be specified.\n",
      "    \n",
      "    Parameters\n",
      "    ----------\n",
      "    info : pandas DataFrame with following columns,\n",
      "        'fastq' - fastq full header\n",
      "        'tile' - tile id (from header)\n",
      "        'x' - position x  (from header)\n",
      "        'y' - position y (from header)\n",
      "        'taxa1' - species part I, truth\n",
      "        'taxa2' - species part II, truth\n",
      "        'read' - read sequence \n",
      "        'taxa_predictions' - taxid of predictions from Kraken2\n",
      "        'taxa' - truth species, truth\n",
      "        'taxa_order' - truth taxa information, ordered \n",
      "        'superkingdom' - taxid predictions from Kraken2 translated to taxa info via ete3\n",
      "        'phylum' - taxid predictions from Kraken2 translated to taxa info via ete3\n",
      "        'class' - taxid predictions from Kraken2 translated to taxa info via ete3\n",
      "        'order' - taxid predictions from Kraken2 translated to taxa info via ete3\n",
      "        'family' - taxid predictions from Kraken2 translated to taxa info via ete3\n",
      "        'genus' - taxid predictions from Kraken2 translated to taxa info via ete3\n",
      "        'species' - taxid predictions from Kraken2 translated to taxa info via ete3\n",
      "        'barcode' - barcode sequence\n",
      "        'Bx' - barcode position X, spot definition (for synthetic data, assigned randomly)\n",
      "        'By' - barcode position Y, spot definition (for synthetic data, assigned randomly)\n",
      "    model : keras-based model,\n",
      "        Deep learning model at species / genus level.\n",
      "    encoder : sklearn-based encoder,\n",
      "        Enocder including species / genus names.\n",
      "    \n",
      "    Returns\n",
      "    -------\n",
      "    cluster_l\n",
      "        a list of bacteria frequencies bacteria per spot. \n",
      "    reassign_d\n",
      "        a dict of 3 column data frames. Columns correspond to read ID (1st), Kraken2 and DL prediction (2nd and 3rd). Keys are spots.\n",
      "\n"
     ]
    }
   ],
   "source": [
    "help(dl_evaluation.reassign_classes_per_spot)"
   ]
  },
  {
   "cell_type": "markdown",
   "id": "49555d42-f32c-4c69-b909-e115aa827759",
   "metadata": {},
   "source": [
    "### Function: merge_prediction_results"
   ]
  },
  {
   "cell_type": "code",
   "execution_count": 9,
   "id": "b97b1de2-5c97-4e2d-9bba-a8390a2eceaa",
   "metadata": {},
   "outputs": [
    {
     "name": "stdout",
     "output_type": "stream",
     "text": [
      "Help on function merge_prediction_results in module homic.dl_evaluation:\n",
      "\n",
      "merge_prediction_results(info, cluster_l, fastq_spot_d, taxa_orders, reassign_d)\n",
      "    Merges prediction results for spots.\n",
      "    \n",
      "    No default parameters. All must be specified.\n",
      "    \n",
      "    Parameters\n",
      "    ----------\n",
      "    info : pandas DataFrame with following columns,\n",
      "        'fastq' - fastq full header\n",
      "        'tile' - tile id (from header)\n",
      "        'x' - position x  (from header)\n",
      "        'y' - position y (from header)\n",
      "        'taxa1' - species part I, truth\n",
      "        'taxa2' - species part II, truth\n",
      "        'read' - read sequence \n",
      "        'taxa_predictions' - taxid of predictions from Kraken2\n",
      "        'taxa' - truth species, truth\n",
      "        'taxa_order' - truth taxa information, ordered \n",
      "        'superkingdom' - taxid predictions from Kraken2 translated to taxa info via ete3\n",
      "        'phylum' - taxid predictions from Kraken2 translated to taxa info via ete3\n",
      "        'class' - taxid predictions from Kraken2 translated to taxa info via ete3\n",
      "        'order' - taxid predictions from Kraken2 translated to taxa info via ete3\n",
      "        'family' - taxid predictions from Kraken2 translated to taxa info via ete3\n",
      "        'genus' - taxid predictions from Kraken2 translated to taxa info via ete3\n",
      "        'species' - taxid predictions from Kraken2 translated to taxa info via ete3\n",
      "        'barcode' - barcode sequence\n",
      "        'Bx' - barcode position X, spot definition (for synthetic data, assigned randomly)\n",
      "        'By' - barcode position Y, spot definition (for synthetic data, assigned randomly)\n",
      "    cluster_l : list,\n",
      "        Frequencies of bacteria per spot. \n",
      "    fastq_spot_d : dict,\n",
      "        Indicating which coordinates (spots) belong to what read. Keys are spot IDs, values are reads IDs.\n",
      "    taxa_orders : list,\n",
      "        List including taxa levels ordered, for instance: [\"species\", \"genus\", \"family\", \"order\", \"class\", \"phylum\", \"superkingdom\"]\n",
      "    reassign_d : dict,\n",
      "        Dict of 3 column data frames. Columns correspond to read ID (1st), Kraken2 and DL prediction (2nd and 3rd). Keys are spots.\n",
      "        \n",
      "    Returns\n",
      "    -------\n",
      "    pearson_d\n",
      "        a dict of pearson correlation values for taxa levels (keys), two elements corresponds to DL and Kraken2, respectively.\n",
      "    braycurtis_d\n",
      "        a dict of Bray Curtis distances for taxa levels (keys), two elements corresponds to DL and Kraken2, respectively.\n",
      "    accuracy_d\n",
      "        a dict of accuracies for taxa levels (keys), two elements corresponds to DL and Kraken2, respectively.\n",
      "    precision_d\n",
      "        a dict of precisions for taxa levels (keys), two elements corresponds to DL and Kraken2, respectively.\n",
      "    recall_d\n",
      "        a dict of recals for taxa levels (keys), two elements corresponds to DL and Kraken2, respectively.\n",
      "\n"
     ]
    }
   ],
   "source": [
    "help(dl_evaluation.merge_prediction_results)"
   ]
  },
  {
   "cell_type": "markdown",
   "id": "02f54288-aae7-446d-9b39-2d43840606eb",
   "metadata": {},
   "source": [
    "### Function: per_spot_stats"
   ]
  },
  {
   "cell_type": "code",
   "execution_count": 10,
   "id": "37d82917-8076-41b8-b2d9-9df8f740ea93",
   "metadata": {},
   "outputs": [
    {
     "name": "stdout",
     "output_type": "stream",
     "text": [
      "Help on function per_spot_stats in module homic.dl_evaluation:\n",
      "\n",
      "per_spot_stats(info, reassign_d, fastq_spot_d, taxa_orders)\n",
      "    Prints statistics for spots.\n",
      "    \n",
      "    No default parameters. All must be specified.\n",
      "    \n",
      "    Parameters\n",
      "    ----------\n",
      "    info : pandas DataFrame with following columns,\n",
      "        'fastq' - fastq full header\n",
      "        'tile' - tile id (from header)\n",
      "        'x' - position x  (from header)\n",
      "        'y' - position y (from header)\n",
      "        'taxa1' - species part I, truth\n",
      "        'taxa2' - species part II, truth\n",
      "        'read' - read sequence \n",
      "        'taxa_predictions' - taxid of predictions from Kraken2\n",
      "        'taxa' - truth species, truth\n",
      "        'taxa_order' - truth taxa information, ordered \n",
      "        'superkingdom' - taxid predictions from Kraken2 translated to taxa info via ete3\n",
      "        'phylum' - taxid predictions from Kraken2 translated to taxa info via ete3\n",
      "        'class' - taxid predictions from Kraken2 translated to taxa info via ete3\n",
      "        'order' - taxid predictions from Kraken2 translated to taxa info via ete3\n",
      "        'family' - taxid predictions from Kraken2 translated to taxa info via ete3\n",
      "        'genus' - taxid predictions from Kraken2 translated to taxa info via ete3\n",
      "        'species' - taxid predictions from Kraken2 translated to taxa info via ete3\n",
      "        'barcode' - barcode sequence\n",
      "        'Bx' - barcode position X, spot definition (for synthetic data, assigned randomly)\n",
      "        'By' - barcode position Y, spot definition (for synthetic data, assigned randomly)\n",
      "    reassign_d : dict,\n",
      "        Dict of 3 column data frames. Columns correspond to read ID (1st), Kraken2 and DL prediction (2nd and 3rd). Keys are spots.\n",
      "    fastq_spot_d : dict,\n",
      "        Indicating which coordinates (spots) belong to what read. Keys are spot IDs, values are reads IDs.\n",
      "    taxa_orders : list,\n",
      "        List including taxa levels ordered, for instance: [\"species\", \"genus\", \"family\", \"order\", \"class\", \"phylum\", \"superkingdom\"]\n",
      "    \n",
      "    Returns\n",
      "    -------\n",
      "    stats_d\n",
      "        a dict of data frames (for each spot) with following columns taxa order, type (kraken or DL), accuracy, F1-score, False Pos, NAs, Misclassified.\n",
      "\n"
     ]
    }
   ],
   "source": [
    "help(dl_evaluation.per_spot_stats)"
   ]
  },
  {
   "cell_type": "markdown",
   "id": "352db6b7-da86-4e4e-a069-c222d2645f44",
   "metadata": {},
   "source": [
    "## Module: process_data"
   ]
  },
  {
   "cell_type": "markdown",
   "id": "07e55f95-c31e-4d89-9ba8-457d826615bc",
   "metadata": {},
   "source": [
    "## Module: make_plots"
   ]
  }
 ],
 "metadata": {
  "kernelspec": {
   "display_name": "Python 3 (ipykernel)",
   "language": "python",
   "name": "python3"
  },
  "language_info": {
   "codemirror_mode": {
    "name": "ipython",
    "version": 3
   },
   "file_extension": ".py",
   "mimetype": "text/x-python",
   "name": "python",
   "nbconvert_exporter": "python",
   "pygments_lexer": "ipython3",
   "version": "3.9.7"
  }
 },
 "nbformat": 4,
 "nbformat_minor": 5
}
