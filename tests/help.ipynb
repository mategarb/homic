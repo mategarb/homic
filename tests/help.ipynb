{
 "cells": [
  {
   "cell_type": "markdown",
   "id": "bfe50944-f85b-4528-a1f3-d25c1f2cf20e",
   "metadata": {},
   "source": [
    "# Help for the homic package"
   ]
  },
  {
   "cell_type": "code",
   "execution_count": 1,
   "id": "9ea64c77-32ca-4c68-9a58-4167949f6bea",
   "metadata": {
    "scrolled": true
   },
   "outputs": [
    {
     "name": "stdout",
     "output_type": "stream",
     "text": [
      "homic package imported\n"
     ]
    },
    {
     "name": "stderr",
     "output_type": "stream",
     "text": [
      "2025-09-29 11:11:42.465251: E external/local_xla/xla/stream_executor/cuda/cuda_fft.cc:477] Unable to register cuFFT factory: Attempting to register factory for plugin cuFFT when one has already been registered\n",
      "WARNING: All log messages before absl::InitializeLog() is called are written to STDERR\n",
      "E0000 00:00:1759158702.809799 1911895 cuda_dnn.cc:8310] Unable to register cuDNN factory: Attempting to register factory for plugin cuDNN when one has already been registered\n",
      "E0000 00:00:1759158702.976258 1911895 cuda_blas.cc:1418] Unable to register cuBLAS factory: Attempting to register factory for plugin cuBLAS when one has already been registered\n",
      "2025-09-29 11:11:44.288196: I tensorflow/core/platform/cpu_feature_guard.cc:210] This TensorFlow binary is optimized to use available CPU instructions in performance-critical operations.\n",
      "To enable the following instructions: AVX2 FMA, in other operations, rebuild TensorFlow with the appropriate compiler flags.\n"
     ]
    }
   ],
   "source": [
    "import sys\n",
    "import pandas as pd\n",
    "import numpy as np\n",
    "sys.path.append('/gpfs/commons/home/mgarbulowski/homic_package/src')\n",
    "from homic import file_readers, simulate_16S, kraken2, dl_model, dl_evaluation, process_data, make_plots"
   ]
  },
  {
   "cell_type": "markdown",
   "id": "268435ef-8c10-4134-8c77-4a6e28871b03",
   "metadata": {},
   "source": [
    "## Module: file_readers"
   ]
  },
  {
   "cell_type": "markdown",
   "id": "2d462016-e366-4519-8132-fe389aedb1fb",
   "metadata": {},
   "source": [
    "### Function: fasta"
   ]
  },
  {
   "cell_type": "code",
   "execution_count": 2,
   "id": "5eff0bb4-035e-46f6-a656-c5bdafadf823",
   "metadata": {},
   "outputs": [
    {
     "name": "stdout",
     "output_type": "stream",
     "text": [
      "Help on function fasta in module homic.file_readers:\n",
      "\n",
      "fasta(path)\n",
      "    Reads fasta file and prints the number of organisms in the file.\n",
      "    \n",
      "    No default parameters. All must be specified.\n",
      "    \n",
      "    Parameters\n",
      "    ----------\n",
      "    path : string,\n",
      "        path to the .fasta file.\n",
      "    \n",
      "    Returns\n",
      "    -------\n",
      "    fasta_dict\n",
      "        a dictionary with organisms included in the .fasta file\n",
      "\n"
     ]
    }
   ],
   "source": [
    "help(file_readers.fasta)"
   ]
  },
  {
   "cell_type": "markdown",
   "id": "e6b6dd2d-510c-480d-9a99-8187de81b82b",
   "metadata": {},
   "source": [
    "### Function: fastq"
   ]
  },
  {
   "cell_type": "code",
   "execution_count": 3,
   "id": "0f36fa5d-a156-4ab3-9e84-4ee00765f41d",
   "metadata": {},
   "outputs": [
    {
     "name": "stdout",
     "output_type": "stream",
     "text": [
      "Help on function fastq in module homic.file_readers:\n",
      "\n",
      "fastq(path)\n",
      "    Reads fastq file.\n",
      "    \n",
      "    No default parameters. All must be specified.\n",
      "    \n",
      "    Parameters\n",
      "    ----------\n",
      "    path : string,\n",
      "        path to the .fasta file.\n",
      "    \n",
      "    Returns\n",
      "    -------\n",
      "    r2_header_lines\n",
      "        a list of all fastq headers\n",
      "    r2_read_lines\n",
      "        a list of reads\n",
      "    r2_qual_lines\n",
      "        a list of all quality lines\n",
      "\n"
     ]
    }
   ],
   "source": [
    "help(file_readers.fastq)"
   ]
  },
  {
   "cell_type": "markdown",
   "id": "1c6a9534-7323-48ae-9b8c-778029c054d2",
   "metadata": {},
   "source": [
    "### Function: save_fasta_as_rev_comp"
   ]
  },
  {
   "cell_type": "code",
   "execution_count": 4,
   "id": "a0e94815-50c3-4f08-aa0a-92c7711ff9de",
   "metadata": {},
   "outputs": [
    {
     "name": "stdout",
     "output_type": "stream",
     "text": [
      "Help on function save_fasta_as_rev_comp in module homic.file_readers:\n",
      "\n",
      "save_fasta_as_rev_comp(path)\n",
      "    Reads fasta file and creates new fasta with reverse complementary sequences.\n",
      "    \n",
      "    No default parameters. All must be specified.\n",
      "    \n",
      "    Parameters\n",
      "    ----------\n",
      "    path : string,\n",
      "        path to the .fasta file.\n",
      "    \n",
      "    Returns\n",
      "    -------\n",
      "    no outputs\n",
      "        new file is created with the same name + \"_rc.fasta\" extension\n",
      "\n"
     ]
    }
   ],
   "source": [
    "help(file_readers.save_fasta_as_rev_comp)"
   ]
  },
  {
   "cell_type": "markdown",
   "id": "7df2d619-b04f-4c59-88b9-3811db537904",
   "metadata": {},
   "source": [
    "### Function: save_fastq_as_rev_comp"
   ]
  },
  {
   "cell_type": "code",
   "execution_count": 5,
   "id": "2c90c775-2a43-4681-b7a0-99ab6abb2220",
   "metadata": {},
   "outputs": [
    {
     "name": "stdout",
     "output_type": "stream",
     "text": [
      "Help on function save_fastq_as_rev_comp in module homic.file_readers:\n",
      "\n",
      "save_fastq_as_rev_comp(path)\n",
      "    Reads fastq file and creates new fastq with reverse complementary reads.\n",
      "    \n",
      "    No default parameters. All must be specified.\n",
      "    \n",
      "    Parameters\n",
      "    ----------\n",
      "    path : string,\n",
      "        path to the .fastq file.\n",
      "    \n",
      "    Returns\n",
      "    -------\n",
      "    no outputs\n",
      "        new file is created with the same name + \"_rc.fastq\" extension\n",
      "\n"
     ]
    }
   ],
   "source": [
    "help(file_readers.save_fastq_as_rev_comp)"
   ]
  },
  {
   "cell_type": "markdown",
   "id": "f3f1b96c-725b-4d3d-9d93-736b7240fdce",
   "metadata": {},
   "source": [
    "### Function: load_barcodes"
   ]
  },
  {
   "cell_type": "code",
   "execution_count": 6,
   "id": "6969cbf8-c3bc-4201-bdd6-da761b153c6b",
   "metadata": {},
   "outputs": [
    {
     "name": "stdout",
     "output_type": "stream",
     "text": [
      "Help on function load_barcodes in module homic.file_readers:\n",
      "\n",
      "load_barcodes(path)\n",
      "    Reads .txt file with barcodes.\n",
      "    Assumes three columns: barcode sequence, x and y cooridnates.\n",
      "    \n",
      "    No default parameters. All must be specified.\n",
      "    \n",
      "    Parameters\n",
      "    ----------\n",
      "    path : string,\n",
      "        path to the .txt file.\n",
      "    \n",
      "    Returns\n",
      "    -------\n",
      "    bcodes\n",
      "        a data frame with barcodes\n",
      "\n"
     ]
    }
   ],
   "source": [
    "help(file_readers.load_barcodes)"
   ]
  },
  {
   "cell_type": "markdown",
   "id": "90cc0ceb-e132-4c24-b3d2-fc988aa89d00",
   "metadata": {},
   "source": [
    "### Function: make_benchmark_table"
   ]
  },
  {
   "cell_type": "code",
   "execution_count": 7,
   "id": "a4db6119-f74c-4884-bcf3-c90960b838fa",
   "metadata": {},
   "outputs": [
    {
     "name": "stdout",
     "output_type": "stream",
     "text": [
      "Help on function make_benchmark_table in module homic.file_readers:\n",
      "\n",
      "make_benchmark_table(path, reads, krk_preds, bcodes)\n",
      "    Creates a table for benchmarking spots.\n",
      "    \n",
      "    No default parameters. All must be specified.\n",
      "    \n",
      "    Parameters\n",
      "    ----------\n",
      "    path : string,\n",
      "        path to the gold truth species / genus list.\n",
      "    reads : list,\n",
      "        \"reads\" list read with the file_readers.fastq function\n",
      "    krk_preds : pandas Series,\n",
      "        taken as a column \"taxa\" from output of file_readers.load_kraken2_output(path)\n",
      "    bcodes : pandas DataFrame,\n",
      "        the output from file_readers.load_barcodes(path)\n",
      "        \n",
      "    \n",
      "    Returns\n",
      "    -------\n",
      "    fastq_spot_d\n",
      "        a dict indicating which coordinates (spots) belong to what read. Keys are spot IDs, values are reads IDs.\n",
      "    info\n",
      "        pandas DataFrame with following columns:\n",
      "        'fastq' - fastq full header\n",
      "        'tile' - tile id (from header)\n",
      "        'x' - position x  (from header)\n",
      "        'y' - position y (from header)\n",
      "        'taxa1' - species part I, truth\n",
      "        'taxa2' - species part II, truth\n",
      "        'read' - read sequence \n",
      "        'taxa_predictions' - taxid of predictions from Kraken2\n",
      "        'taxa' - truth species, truth\n",
      "        'taxa_order' - truth taxa information, ordered \n",
      "        'superkingdom' - taxid predictions from Kraken2 translated to taxa info via ete3\n",
      "        'phylum' - taxid predictions from Kraken2 translated to taxa info via ete3\n",
      "        'class' - taxid predictions from Kraken2 translated to taxa info via ete3\n",
      "        'order' - taxid predictions from Kraken2 translated to taxa info via ete3\n",
      "        'family' - taxid predictions from Kraken2 translated to taxa info via ete3\n",
      "        'genus' - taxid predictions from Kraken2 translated to taxa info via ete3\n",
      "        'species' - taxid predictions from Kraken2 translated to taxa info via ete3\n",
      "        'barcode' - barcode sequence\n",
      "        'Bx' - barcode position X, spot definition (for synthetic data, assigned randomly)\n",
      "        'By' - barcode position Y, spot definition (for synthetic data, assigned randomly)\n",
      "\n"
     ]
    }
   ],
   "source": [
    "help(file_readers.make_benchmark_table)"
   ]
  },
  {
   "cell_type": "markdown",
   "id": "d646fd78-0ba4-47f6-b70b-eeed62237bf8",
   "metadata": {},
   "source": [
    "### Function: load_kraken2_output"
   ]
  },
  {
   "cell_type": "code",
   "execution_count": 8,
   "id": "cc90a5cc-6b18-4a32-a56d-9f2cc9b61aa9",
   "metadata": {},
   "outputs": [
    {
     "name": "stdout",
     "output_type": "stream",
     "text": [
      "Help on function load_kraken2_output in module homic.file_readers:\n",
      "\n",
      "load_kraken2_output(path)\n",
      "    Loads the output of kraken2 stored in the .csv file.\n",
      "    \n",
      "    No default parameters. All must be specified.\n",
      "    \n",
      "    Parameters\n",
      "    ----------\n",
      "    path : string,\n",
      "        path to the .csv file.\n",
      "    \n",
      "    Returns\n",
      "    -------\n",
      "    info\n",
      "        a data frame with following columns: 'class', 'read_id', 'species', 'read_length','kmers' and 'taxid'\n",
      "\n"
     ]
    }
   ],
   "source": [
    "help(file_readers.load_kraken2_output)"
   ]
  },
  {
   "cell_type": "markdown",
   "id": "b8d8e07c-a1b3-4e4a-8100-858b34d0db6b",
   "metadata": {},
   "source": [
    "## Module: simulate_16S"
   ]
  },
  {
   "cell_type": "markdown",
   "id": "d8174239-9b24-495f-a678-475a3c646371",
   "metadata": {},
   "source": [
    "### Function: training_data"
   ]
  },
  {
   "cell_type": "code",
   "execution_count": 9,
   "id": "b244fd9d-875f-421e-87da-54d9fe304006",
   "metadata": {},
   "outputs": [
    {
     "name": "stdout",
     "output_type": "stream",
     "text": [
      "Help on function training_data in module homic.simulate_16S:\n",
      "\n",
      "training_data(n_reads, output_path, score_thr, mic_refs, r2_header_lines, r2_read_lines, r2_qual_lines, impute_errors=True, trunc_range=[0, 0], print_stats=True)\n",
      "    Creates data for training DL model with feature selection based on alignment scores.\n",
      "    \n",
      "    Parameters\n",
      "    ----------\n",
      "    n_reads : intiger,\n",
      "       number of reads to generate. In case this number exceeds the number of reads in real data, randomly (with replecement) generated reads are created.\n",
      "    output_path : string,\n",
      "       path to the foler where simulated data are created\n",
      "    score_thr : float,\n",
      "       threshold for feature selection (alignment score threshold)\n",
      "    mic_refs : dict,\n",
      "       a dict of micriobiome references\n",
      "    r2_header_lines : list,\n",
      "       a list of headers from the real data\n",
      "    r2_read_lines : list,\n",
      "       a list of reads (sequences) from the real data\n",
      "    r2_qual_lines : list,\n",
      "       a list of quality lines from the real data\n",
      "    impute_errors : boolean,\n",
      "       if True, imputes a random error in read sequences\n",
      "    trunc_range : list,\n",
      "       a list of two values, percenatage of truncation from left and right end of the read\n",
      "    print_stats : boolean,\n",
      "       if True, prints a basic statistic for simulated data\n",
      "       \n",
      "       \n",
      "    Returns\n",
      "    -------\n",
      "    all_scores\n",
      "        a list of alignment scores\n",
      "    start_vec\n",
      "        a list of starting points where reads where drawn based on the references\n",
      "    qual_vec\n",
      "        a list of qualities\n",
      "    species_list\n",
      "        a list of species (gold truth)\n",
      "\n"
     ]
    }
   ],
   "source": [
    "help(simulate_16S.training_data)"
   ]
  },
  {
   "cell_type": "markdown",
   "id": "fad5fe6d-ee23-46b5-a605-5737943c3e3f",
   "metadata": {},
   "source": [
    "### Function: training_data_fast"
   ]
  },
  {
   "cell_type": "code",
   "execution_count": 10,
   "id": "464024ff-b0ad-4bc0-adef-87d1d60e5f71",
   "metadata": {},
   "outputs": [
    {
     "name": "stdout",
     "output_type": "stream",
     "text": [
      "Help on function training_data_fast in module homic.simulate_16S:\n",
      "\n",
      "training_data_fast(n_reads, output_path, mic_refs, r2_header_lines, r2_read_lines, r2_qual_lines, impute_errors=True, trunc_range=[0, 0], print_stats=True)\n",
      "    Creates data for training DL model without feature selection (fast approach).\n",
      "    \n",
      "    Parameters\n",
      "    ----------\n",
      "    n_reads : intiger,\n",
      "       number of reads to generate. In case this number exceeds the number of reads in real data, randomly (with replecement) generated reads are created.\n",
      "    output_path : string,\n",
      "       path to the foler where simulated data are created\n",
      "    mic_refs : dict,\n",
      "       a dict of micriobiome references\n",
      "    r2_header_lines : list,\n",
      "       a list of headers from the real data\n",
      "    r2_read_lines : list,\n",
      "       a list of reads (sequences) from the real data\n",
      "    r2_qual_lines : list,\n",
      "       a list of quality lines from the real data\n",
      "    impute_errors : boolean,\n",
      "       if True, imputes a random error in read sequences\n",
      "    trunc_range : list,\n",
      "       a list of two values, percenatage of truncation from left and right end of the read\n",
      "    print_stats : boolean,\n",
      "       if True, prints a basic statistic for simulated data\n",
      "       \n",
      "       \n",
      "    Returns\n",
      "    -------\n",
      "    start_vec\n",
      "        a list of starting points where reads where drawn based on the references\n",
      "    qual_vec\n",
      "        a list of qualities\n",
      "    head_vec\n",
      "        a list of headers\n",
      "    species_list\n",
      "        a list of species (gold truth)\n",
      "\n"
     ]
    }
   ],
   "source": [
    "help(simulate_16S.training_data_fast)"
   ]
  },
  {
   "cell_type": "code",
   "execution_count": 11,
   "id": "5505b21c-95e7-43bb-8264-6b8722c647fc",
   "metadata": {},
   "outputs": [
    {
     "name": "stdout",
     "output_type": "stream",
     "text": [
      "Help on function training_data in module homic.simulate_16S:\n",
      "\n",
      "training_data(n_reads, output_path, score_thr, mic_refs, r2_header_lines, r2_read_lines, r2_qual_lines, impute_errors=True, trunc_range=[0, 0], print_stats=True)\n",
      "    Creates data for training DL model with feature selection based on alignment scores.\n",
      "    \n",
      "    Parameters\n",
      "    ----------\n",
      "    n_reads : intiger,\n",
      "       number of reads to generate. In case this number exceeds the number of reads in real data, randomly (with replecement) generated reads are created.\n",
      "    output_path : string,\n",
      "       path to the foler where simulated data are created\n",
      "    score_thr : float,\n",
      "       threshold for feature selection (alignment score threshold)\n",
      "    mic_refs : dict,\n",
      "       a dict of micriobiome references\n",
      "    r2_header_lines : list,\n",
      "       a list of headers from the real data\n",
      "    r2_read_lines : list,\n",
      "       a list of reads (sequences) from the real data\n",
      "    r2_qual_lines : list,\n",
      "       a list of quality lines from the real data\n",
      "    impute_errors : boolean,\n",
      "       if True, imputes a random error in read sequences\n",
      "    trunc_range : list,\n",
      "       a list of two values, percenatage of truncation from left and right end of the read\n",
      "    print_stats : boolean,\n",
      "       if True, prints a basic statistic for simulated data\n",
      "       \n",
      "       \n",
      "    Returns\n",
      "    -------\n",
      "    all_scores\n",
      "        a list of alignment scores\n",
      "    start_vec\n",
      "        a list of starting points where reads where drawn based on the references\n",
      "    qual_vec\n",
      "        a list of qualities\n",
      "    species_list\n",
      "        a list of species (gold truth)\n",
      "\n"
     ]
    }
   ],
   "source": [
    "help(simulate_16S.training_data)"
   ]
  },
  {
   "cell_type": "markdown",
   "id": "d7f37505-814e-4179-b290-8f15390b8421",
   "metadata": {},
   "source": [
    "### Function: validation_data"
   ]
  },
  {
   "cell_type": "code",
   "execution_count": 12,
   "id": "f4a6dba1-900c-4dec-8877-2e4ac01f9111",
   "metadata": {},
   "outputs": [
    {
     "name": "stdout",
     "output_type": "stream",
     "text": [
      "Help on function validation_data in module homic.simulate_16S:\n",
      "\n",
      "validation_data(n_reads, output_path, mic_refs, r2_header_lines, r2_read_lines, r2_qual_lines, species_tra=None, error_rate=0.001, error_weights=(1, 2, 0), trunc_range=[0, 0], print_stats=True, shuffle=True)\n",
      "    Creates data for validation with equal distribution of species and tuned error.\n",
      "    \n",
      "    Parameters\n",
      "    ----------\n",
      "    n_reads : intiger,\n",
      "       number of reads to generate per taxa reference. In case this number exceeds the number of reads in real data, randomly (with replecement) generated reads are created.\n",
      "    output_path : string,\n",
      "       path to the foler where simulated data are created\n",
      "    mic_refs : dict,\n",
      "       a dict of micriobiome references\n",
      "    r2_header_lines : list,\n",
      "       a list of headers from the real data\n",
      "    r2_read_lines : list,\n",
      "       a list of reads (sequences) from the real data\n",
      "    r2_qual_lines : list,\n",
      "       a list of quality lines from the real data\n",
      "    species_tra : \"None\" or list,\n",
      "       given the list of taxa names, removes taxa that not match    \n",
      "    error_rate : float,\n",
      "       error rate for swtiching a nucleotide\n",
      "    error_weights : vector,\n",
      "       three element vector indicates a chance of getting single, double or triple error\n",
      "    trunc_range : list,\n",
      "       a list of two values, percenatage of truncation from left and right end of the read\n",
      "    print_stats : boolean,\n",
      "       if True, prints a basic statistic for simulated data\n",
      "    shuffle : boolean,\n",
      "       if True, shuffles final data as originally data are generated ordered by taxa names\n",
      "       \n",
      "       \n",
      "    Returns\n",
      "    -------\n",
      "    seq_lns\n",
      "        a list of sequences lengths\n",
      "    start_vec\n",
      "        a list of starting points where reads where drawn based on the references\n",
      "    species_list\n",
      "        a list of species (gold truth)\n",
      "    frequency\n",
      "        a dict of taxa frequencies\n",
      "\n"
     ]
    }
   ],
   "source": [
    "help(simulate_16S.validation_data)"
   ]
  },
  {
   "cell_type": "markdown",
   "id": "9cf3759e-0519-492a-b631-d45486a57aa7",
   "metadata": {},
   "source": [
    "### Function: simulate_barcodes"
   ]
  },
  {
   "cell_type": "code",
   "execution_count": 13,
   "id": "411d2dbb-aeeb-4d90-a920-39a55f0ebacb",
   "metadata": {},
   "outputs": [
    {
     "name": "stdout",
     "output_type": "stream",
     "text": [
      "Help on function simulate_barcodes in module homic.simulate_16S:\n",
      "\n",
      "simulate_barcodes(b_dim1, b_dim2, b_len=18)\n",
      "    Simulates barcodes and their coordinates.\n",
      "    \n",
      "    Parameters\n",
      "    ----------\n",
      "    b_dim1 : integer,\n",
      "        first spatial dimension (x)\n",
      "    b_dim2 : integer,\n",
      "        second spatial dimension (y)\n",
      "    b_len : integer,\n",
      "        length of barcode [bp]\n",
      "        \n",
      "    Returns\n",
      "    -------\n",
      "    df\n",
      "        a data frame of barcodes and their x and y coordinates\n",
      "\n"
     ]
    }
   ],
   "source": [
    "help(simulate_16S.simulate_barcodes)"
   ]
  },
  {
   "cell_type": "markdown",
   "id": "f5d9b91a-ef5a-46c0-b78a-0865fbb6fdf3",
   "metadata": {},
   "source": [
    "## Module: kraken2"
   ]
  },
  {
   "cell_type": "markdown",
   "id": "eb1bf155-1d65-4e6d-bb43-8f4e5dd50a0c",
   "metadata": {},
   "source": [
    "### Function: prepare_db"
   ]
  },
  {
   "cell_type": "code",
   "execution_count": 14,
   "id": "710ccfc4-766b-497e-9828-c505f849c5b0",
   "metadata": {},
   "outputs": [
    {
     "name": "stdout",
     "output_type": "stream",
     "text": [
      "Help on function prepare_db in module homic.kraken2:\n",
      "\n",
      "prepare_db(db_path, ref_path)\n",
      "    Builds db for kraken2.\n",
      "    \n",
      "    Parameters\n",
      "    ----------\n",
      "    db_path : string,\n",
      "        a path to the folder where kraken db will be created\n",
      "    ref_path : string,\n",
      "        a path to the input .fasta file with reference sequences\n",
      "        \n",
      "    Returns\n",
      "    -------\n",
      "    no output\n",
      "        files are saved to the folder under \"db_path\"\n",
      "\n"
     ]
    }
   ],
   "source": [
    "help(kraken2.prepare_db)"
   ]
  },
  {
   "cell_type": "markdown",
   "id": "42fb973c-9d65-4bdf-890e-15d3b22058f8",
   "metadata": {},
   "source": [
    "### Function: classify"
   ]
  },
  {
   "cell_type": "code",
   "execution_count": 15,
   "id": "61d21ae4-ca12-4b21-bf00-13a94d853bb9",
   "metadata": {},
   "outputs": [
    {
     "name": "stdout",
     "output_type": "stream",
     "text": [
      "Help on function classify in module homic.kraken2:\n",
      "\n",
      "classify(db_path, input_file, confidence=0.01, threads=8, min_hit_gr=2)\n",
      "    Classifies reads to genus / species according to db.\n",
      "    \n",
      "    Parameters\n",
      "    ----------\n",
      "    db_path : string,\n",
      "        a path to kraken db\n",
      "    input_file : string,\n",
      "        a path to input .fastq file\n",
      "    confidence : float,\n",
      "        kraken2 parameter - confidence (-T)\n",
      "    threads : intiger,\n",
      "        kraken2 parameter - number of threads (-p)\n",
      "    min_hit_gr : intiger,\n",
      "        kraken2 parameter - minimum hitting group (-g)\n",
      "    \n",
      "    Returns\n",
      "    -------\n",
      "    output\n",
      "        a data frame with following columns 'outcome', 'seqid', 'taxid', 'seqlen' and 'kmers'\n",
      "\n"
     ]
    }
   ],
   "source": [
    "help(kraken2.classify)"
   ]
  },
  {
   "cell_type": "markdown",
   "id": "7f104a0f-608f-48a6-8f84-60d44e454e7e",
   "metadata": {},
   "source": [
    "### Function: decontaminate_single"
   ]
  },
  {
   "cell_type": "code",
   "execution_count": 16,
   "id": "71fdcd8f-037b-4ff9-8c8e-fa1d9880b5ba",
   "metadata": {},
   "outputs": [
    {
     "name": "stdout",
     "output_type": "stream",
     "text": [
      "Help on function decontaminate_single in module homic.kraken2:\n",
      "\n",
      "decontaminate_single(db_path, input_file, output, confidence=0.5, threads=8, min_base_qual=22)\n",
      "    Decontamination with kraken2 for single .fastq (unpaired).\n",
      "    \n",
      "    Parameters\n",
      "    ----------\n",
      "    db_path : string,\n",
      "        a path to kraken db\n",
      "    input_file : string,\n",
      "        a path to the .fastq file\n",
      "    output : string,\n",
      "        a path to the output .fastq file where host reads are removed\n",
      "    confidence : float,\n",
      "        kraken2 parameter - confidence (--confidence)\n",
      "    threads : intiger,\n",
      "        kraken2 parameter - number of threads (--threads)\n",
      "    min_base_qual : intiger,\n",
      "        kraken2 parameter - minimum base quality (--minimum-base-quality)\n",
      "        \n",
      "    Returns\n",
      "    -------\n",
      "    no output, files are saved under \"output\"\n",
      "\n"
     ]
    }
   ],
   "source": [
    "help(kraken2.decontaminate_single)"
   ]
  },
  {
   "cell_type": "markdown",
   "id": "2d7ada9c-0de0-4f3d-a2cc-a9e0d501f8fb",
   "metadata": {},
   "source": [
    "### Function: decontaminate_paired"
   ]
  },
  {
   "cell_type": "code",
   "execution_count": 17,
   "id": "fb2030a8-09ab-4b60-a03d-7d725527ea41",
   "metadata": {},
   "outputs": [
    {
     "name": "stdout",
     "output_type": "stream",
     "text": [
      "Help on function decontaminate_paired in module homic.kraken2:\n",
      "\n",
      "decontaminate_paired(db_path, input_file1, input_file2, output, confidence=0.5, threads=12, min_base_qual=22)\n",
      "    Decontamination with kraken2 for paired .fastq files.\n",
      "    \n",
      "    Parameters\n",
      "    ----------\n",
      "    db_path : string,\n",
      "        a path to kraken db\n",
      "    input_file1 : string,\n",
      "        a path to the first .fastq file\n",
      "    input_file2 : string,\n",
      "        a path to the second .fastq file\n",
      "    output : string,\n",
      "        a path to the output .fastq file where host reads are removed\n",
      "    confidence : float,\n",
      "        kraken2 parameter - confidence (--confidence)\n",
      "    threads : intiger,\n",
      "        kraken2 parameter - number of threads (--threads)\n",
      "    min_base_qual : intiger,\n",
      "        kraken2 parameter - minimum base quality (--minimum-base-quality)\n",
      "        \n",
      "    Returns\n",
      "    -------\n",
      "    no output, files are saved under \"output\"\n",
      "\n"
     ]
    }
   ],
   "source": [
    "help(kraken2.decontaminate_paired)"
   ]
  },
  {
   "cell_type": "markdown",
   "id": "752d7454-2daa-4402-87af-824bf8360b3f",
   "metadata": {},
   "source": [
    "### Function: evaluate_kraken"
   ]
  },
  {
   "cell_type": "code",
   "execution_count": 18,
   "id": "1d12ee7f-ce8e-4177-90e1-bb19b1ebc568",
   "metadata": {},
   "outputs": [
    {
     "name": "stdout",
     "output_type": "stream",
     "text": [
      "Help on function evaluate_kraken in module homic.kraken2:\n",
      "\n",
      "evaluate_kraken(krk_path, gs_path)\n",
      "    Evaluates kraken2 prediction with gold standard.\n",
      "    \n",
      "    Parameters\n",
      "    ----------\n",
      "    krk_path : string,\n",
      "        a path to kraken2 result (.csv)\n",
      "    gs_path : string,\n",
      "        a path to the gold stanard file (.txt)\n",
      "    \n",
      "    Returns\n",
      "    -------\n",
      "        a value of accuracy\n",
      "\n"
     ]
    }
   ],
   "source": [
    "help(kraken2.evaluate_kraken)"
   ]
  },
  {
   "cell_type": "markdown",
   "id": "f011f1ea-b6f5-4ef8-8734-9d0b10409d52",
   "metadata": {},
   "source": [
    "## Module: dl_model"
   ]
  },
  {
   "cell_type": "markdown",
   "id": "0f5eba2b-2666-49b2-a2c3-9564d668382e",
   "metadata": {},
   "source": [
    "## Module: dl_evaluation"
   ]
  },
  {
   "cell_type": "markdown",
   "id": "fdce8dae-af1d-4267-8ca6-e14b5a3c37c3",
   "metadata": {},
   "source": [
    "### Function: reassign_classes_per_spot"
   ]
  },
  {
   "cell_type": "code",
   "execution_count": 19,
   "id": "e59e4c03-5cfa-49f6-8ed5-1c3be29cbc8a",
   "metadata": {},
   "outputs": [
    {
     "name": "stdout",
     "output_type": "stream",
     "text": [
      "Help on function reassign_classes_per_spot in module homic.dl_evaluation:\n",
      "\n",
      "reassign_classes_per_spot(info, model, encoder)\n",
      "    Prints statistics for spots.\n",
      "    \n",
      "    No default parameters. All must be specified.\n",
      "    \n",
      "    Parameters\n",
      "    ----------\n",
      "    info : pandas DataFrame with following columns,\n",
      "        'fastq' - fastq full header\n",
      "        'tile' - tile id (from header)\n",
      "        'x' - position x  (from header)\n",
      "        'y' - position y (from header)\n",
      "        'taxa1' - species part I, truth\n",
      "        'taxa2' - species part II, truth\n",
      "        'read' - read sequence \n",
      "        'taxa_predictions' - taxid of predictions from Kraken2\n",
      "        'taxa' - truth species, truth\n",
      "        'taxa_order' - truth taxa information, ordered \n",
      "        'superkingdom' - taxid predictions from Kraken2 translated to taxa info via ete3\n",
      "        'phylum' - taxid predictions from Kraken2 translated to taxa info via ete3\n",
      "        'class' - taxid predictions from Kraken2 translated to taxa info via ete3\n",
      "        'order' - taxid predictions from Kraken2 translated to taxa info via ete3\n",
      "        'family' - taxid predictions from Kraken2 translated to taxa info via ete3\n",
      "        'genus' - taxid predictions from Kraken2 translated to taxa info via ete3\n",
      "        'species' - taxid predictions from Kraken2 translated to taxa info via ete3\n",
      "        'barcode' - barcode sequence\n",
      "        'Bx' - barcode position X, spot definition (for synthetic data, assigned randomly)\n",
      "        'By' - barcode position Y, spot definition (for synthetic data, assigned randomly)\n",
      "    model : keras-based model,\n",
      "        Deep learning model at species / genus level.\n",
      "    encoder : sklearn-based encoder,\n",
      "        Enocder including species / genus names.\n",
      "    \n",
      "    Returns\n",
      "    -------\n",
      "    cluster_l\n",
      "        a list of bacteria frequencies bacteria per spot. \n",
      "    reassign_d\n",
      "        a dict of 3 column data frames. Columns correspond to read ID (1st), Kraken2 and DL prediction (2nd and 3rd). Keys are spots.\n",
      "\n"
     ]
    }
   ],
   "source": [
    "help(dl_evaluation.reassign_classes_per_spot)"
   ]
  },
  {
   "cell_type": "markdown",
   "id": "49555d42-f32c-4c69-b909-e115aa827759",
   "metadata": {},
   "source": [
    "### Function: merge_prediction_results"
   ]
  },
  {
   "cell_type": "code",
   "execution_count": 20,
   "id": "b97b1de2-5c97-4e2d-9bba-a8390a2eceaa",
   "metadata": {},
   "outputs": [
    {
     "name": "stdout",
     "output_type": "stream",
     "text": [
      "Help on function merge_prediction_results in module homic.dl_evaluation:\n",
      "\n",
      "merge_prediction_results(info, cluster_l, fastq_spot_d, taxa_orders, reassign_d)\n",
      "    Merges prediction results for spots.\n",
      "    \n",
      "    No default parameters. All must be specified.\n",
      "    \n",
      "    Parameters\n",
      "    ----------\n",
      "    info : pandas DataFrame with following columns,\n",
      "        'fastq' - fastq full header\n",
      "        'tile' - tile id (from header)\n",
      "        'x' - position x  (from header)\n",
      "        'y' - position y (from header)\n",
      "        'taxa1' - species part I, truth\n",
      "        'taxa2' - species part II, truth\n",
      "        'read' - read sequence \n",
      "        'taxa_predictions' - taxid of predictions from Kraken2\n",
      "        'taxa' - truth species, truth\n",
      "        'taxa_order' - truth taxa information, ordered \n",
      "        'superkingdom' - taxid predictions from Kraken2 translated to taxa info via ete3\n",
      "        'phylum' - taxid predictions from Kraken2 translated to taxa info via ete3\n",
      "        'class' - taxid predictions from Kraken2 translated to taxa info via ete3\n",
      "        'order' - taxid predictions from Kraken2 translated to taxa info via ete3\n",
      "        'family' - taxid predictions from Kraken2 translated to taxa info via ete3\n",
      "        'genus' - taxid predictions from Kraken2 translated to taxa info via ete3\n",
      "        'species' - taxid predictions from Kraken2 translated to taxa info via ete3\n",
      "        'barcode' - barcode sequence\n",
      "        'Bx' - barcode position X, spot definition (for synthetic data, assigned randomly)\n",
      "        'By' - barcode position Y, spot definition (for synthetic data, assigned randomly)\n",
      "    cluster_l : list,\n",
      "        Frequencies of bacteria per spot. \n",
      "    fastq_spot_d : dict,\n",
      "        Indicating which coordinates (spots) belong to what read. Keys are spot IDs, values are reads IDs.\n",
      "    taxa_orders : list,\n",
      "        List including taxa levels ordered, for instance: [\"species\", \"genus\", \"family\", \"order\", \"class\", \"phylum\", \"superkingdom\"]\n",
      "    reassign_d : dict,\n",
      "        Dict of 3 column data frames. Columns correspond to read ID (1st), Kraken2 and DL prediction (2nd and 3rd). Keys are spots.\n",
      "        \n",
      "    Returns\n",
      "    -------\n",
      "    pearson_d\n",
      "        a dict of pearson correlation values for taxa levels (keys), two elements corresponds to DL and Kraken2, respectively.\n",
      "    braycurtis_d\n",
      "        a dict of Bray Curtis distances for taxa levels (keys), two elements corresponds to DL and Kraken2, respectively.\n",
      "    accuracy_d\n",
      "        a dict of accuracies for taxa levels (keys), two elements corresponds to DL and Kraken2, respectively.\n",
      "    precision_d\n",
      "        a dict of precisions for taxa levels (keys), two elements corresponds to DL and Kraken2, respectively.\n",
      "    recall_d\n",
      "        a dict of recals for taxa levels (keys), two elements corresponds to DL and Kraken2, respectively.\n",
      "\n"
     ]
    }
   ],
   "source": [
    "help(dl_evaluation.merge_prediction_results)"
   ]
  },
  {
   "cell_type": "markdown",
   "id": "02f54288-aae7-446d-9b39-2d43840606eb",
   "metadata": {},
   "source": [
    "### Function: per_spot_stats"
   ]
  },
  {
   "cell_type": "code",
   "execution_count": 21,
   "id": "37d82917-8076-41b8-b2d9-9df8f740ea93",
   "metadata": {},
   "outputs": [
    {
     "name": "stdout",
     "output_type": "stream",
     "text": [
      "Help on function per_spot_stats in module homic.dl_evaluation:\n",
      "\n",
      "per_spot_stats(info, reassign_d, fastq_spot_d, taxa_orders)\n",
      "    Prints statistics for spots.\n",
      "    \n",
      "    No default parameters. All must be specified.\n",
      "    \n",
      "    Parameters\n",
      "    ----------\n",
      "    info : pandas DataFrame with following columns,\n",
      "        'fastq' - fastq full header\n",
      "        'tile' - tile id (from header)\n",
      "        'x' - position x  (from header)\n",
      "        'y' - position y (from header)\n",
      "        'taxa1' - species part I, truth\n",
      "        'taxa2' - species part II, truth\n",
      "        'read' - read sequence \n",
      "        'taxa_predictions' - taxid of predictions from Kraken2\n",
      "        'taxa' - truth species, truth\n",
      "        'taxa_order' - truth taxa information, ordered \n",
      "        'superkingdom' - taxid predictions from Kraken2 translated to taxa info via ete3\n",
      "        'phylum' - taxid predictions from Kraken2 translated to taxa info via ete3\n",
      "        'class' - taxid predictions from Kraken2 translated to taxa info via ete3\n",
      "        'order' - taxid predictions from Kraken2 translated to taxa info via ete3\n",
      "        'family' - taxid predictions from Kraken2 translated to taxa info via ete3\n",
      "        'genus' - taxid predictions from Kraken2 translated to taxa info via ete3\n",
      "        'species' - taxid predictions from Kraken2 translated to taxa info via ete3\n",
      "        'barcode' - barcode sequence\n",
      "        'Bx' - barcode position X, spot definition (for synthetic data, assigned randomly)\n",
      "        'By' - barcode position Y, spot definition (for synthetic data, assigned randomly)\n",
      "    reassign_d : dict,\n",
      "        Dict of 3 column data frames. Columns correspond to read ID (1st), Kraken2 and DL prediction (2nd and 3rd). Keys are spots.\n",
      "    fastq_spot_d : dict,\n",
      "        Indicating which coordinates (spots) belong to what read. Keys are spot IDs, values are reads IDs.\n",
      "    taxa_orders : list,\n",
      "        List including taxa levels ordered, for instance: [\"species\", \"genus\", \"family\", \"order\", \"class\", \"phylum\", \"superkingdom\"]\n",
      "    \n",
      "    Returns\n",
      "    -------\n",
      "    stats_d\n",
      "        a dict of data frames (for each spot) with following columns taxa order, type (kraken or DL), accuracy, F1-score, False Pos, NAs, Misclassified.\n",
      "\n"
     ]
    }
   ],
   "source": [
    "help(dl_evaluation.per_spot_stats)"
   ]
  },
  {
   "cell_type": "markdown",
   "id": "352db6b7-da86-4e4e-a069-c222d2645f44",
   "metadata": {},
   "source": [
    "## Module: process_data"
   ]
  },
  {
   "cell_type": "markdown",
   "id": "07e55f95-c31e-4d89-9ba8-457d826615bc",
   "metadata": {},
   "source": [
    "## Module: make_plots"
   ]
  },
  {
   "cell_type": "markdown",
   "id": "ed881a02-b872-4929-910c-3c26d5e6ff8c",
   "metadata": {},
   "source": [
    "### Function: load_kraken2_output"
   ]
  }
 ],
 "metadata": {
  "kernelspec": {
   "display_name": "Python 3 (ipykernel)",
   "language": "python",
   "name": "python3"
  },
  "language_info": {
   "codemirror_mode": {
    "name": "ipython",
    "version": 3
   },
   "file_extension": ".py",
   "mimetype": "text/x-python",
   "name": "python",
   "nbconvert_exporter": "python",
   "pygments_lexer": "ipython3",
   "version": "3.9.7"
  }
 },
 "nbformat": 4,
 "nbformat_minor": 5
}
