{
 "cells": [
  {
   "cell_type": "code",
   "execution_count": 1,
   "id": "9ea64c77-32ca-4c68-9a58-4167949f6bea",
   "metadata": {},
   "outputs": [
    {
     "name": "stdout",
     "output_type": "stream",
     "text": [
      "homic package imported\n"
     ]
    }
   ],
   "source": [
    "import sys\n",
    "import pandas as pd\n",
    "sys.path.append('/gpfs/commons/home/mgarbulowski/homic_package/src') # to load our package\n",
    "from homic import file_readers, process_data, make_plots"
   ]
  },
  {
   "cell_type": "code",
   "execution_count": 2,
   "id": "d36fa2ea-7452-456b-afa9-1d39d3ddfea8",
   "metadata": {},
   "outputs": [
    {
     "name": "stdout",
     "output_type": "stream",
     "text": [
      "   contig_id  subject_id  pident  length  evalue  bitscore  score  \\\n",
      "26    k141_2  AP024868.1  98.393    2675     0.0      4702   2546   \n",
      "27    k141_2  AP024892.1  98.393    2675     0.0      4702   2546   \n",
      "21    k141_2  CP004084.1  98.393    2675     0.0      4702   2546   \n",
      "31    k141_2  AP024880.1  98.472    2094     0.0      3690   1998   \n",
      "16    k141_1  AP024892.1  99.530    1489     0.0      2712   1468   \n",
      "\n",
      "                                        subject_title               species  \\\n",
      "26  AP024868.1 Vibrio comitans LMG 23416 plasmid p...       Vibrio comitans   \n",
      "27  AP024892.1 Vibrio pectenicida LMG 19642 plasmi...    Vibrio pectenicida   \n",
      "21  CP004084.1 Enterobacteria phage phiX174, compl...  Enterobacteria phage   \n",
      "31  AP024880.1 Vibrio inusitatus LMG 23434 plasmid...     Vibrio inusitatus   \n",
      "16  AP024892.1 Vibrio pectenicida LMG 19642 plasmi...    Vibrio pectenicida   \n",
      "\n",
      "             genus  \n",
      "26          Vibrio  \n",
      "27          Vibrio  \n",
      "21  Enterobacteria  \n",
      "31          Vibrio  \n",
      "16          Vibrio  \n"
     ]
    }
   ],
   "source": [
    "\n",
    "path_b = '/gpfs/commons/home/mgarbulowski/data_hummic/hs_blastn.txt'\n",
    "data = process_data.read_n_clean_blastn(path_b)\n",
    "print(data.iloc[:5])\n",
    "\n",
    "#path_b1 = '/gpfs/commons/home/mgarbulowski/data_moumic/ERR5838516_blastn.txt'\n",
    "#data1 = process_data.read_n_clean_blastn(path_b1)\n",
    "#print(data1.iloc[:5])\n",
    "\n",
    "#path_b2 = '/gpfs/commons/home/mgarbulowski/data_moumic/ERR5838523_blastn.txt'\n",
    "#data2 = process_data.read_n_clean_blastn(path_b2)\n",
    "#print(data2.iloc[:5])\n",
    "\n",
    "#path_b3 = '/gpfs/commons/home/mgarbulowski/data_moumic/ERR5838529_blastn.txt'\n",
    "#data3 = process_data.read_n_clean_blastn(path_b3)\n",
    "#print(data3.iloc[:5])\n"
   ]
  },
  {
   "cell_type": "code",
   "execution_count": 4,
   "id": "005ec980-66e6-478c-bb80-7e268b7821d6",
   "metadata": {},
   "outputs": [
    {
     "data": {
      "image/png": "[encoded data removed]",
      "text/plain": [
       "<Figure size 640x480 with 1 Axes>"
      ]
     },
     "metadata": {},
     "output_type": "display_data"
    }
   ],
   "source": [
    "make_plots.relative_abundance(data, \"ERR5838516\", thr = 1)\n",
    "\n",
    "#make_plots.relative_abundance(data1, \"ERR5838516\", thr = 1)\n",
    "#make_plots.relative_abundance(data2, \"ERR5838523\", thr = 1)\n",
    "#make_plots.relative_abundance(data3, \"ERR5838529\", thr = 1)"
   ]
  },
  {
   "cell_type": "code",
   "execution_count": null,
   "id": "81508f18-714e-4764-b917-e8d6d9fe5dff",
   "metadata": {},
   "outputs": [],
   "source": []
  }
 ],
 "metadata": {
  "kernelspec": {
   "display_name": "Python 3 (ipykernel)",
   "language": "python",
   "name": "python3"
  },
  "language_info": {
   "codemirror_mode": {
    "name": "ipython",
    "version": 3
   },
   "file_extension": ".py",
   "mimetype": "text/x-python",
   "name": "python",
   "nbconvert_exporter": "python",
   "pygments_lexer": "ipython3",
   "version": "3.9.7"
  }
 },
 "nbformat": 4,
 "nbformat_minor": 5
}
